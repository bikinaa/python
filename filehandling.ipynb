{
 "cells": [
  {
   "cell_type": "code",
   "execution_count": 1,
   "id": "4dc8bc07",
   "metadata": {},
   "outputs": [],
   "source": [
    "#open (<file_name>,modes)\n",
    "# modes types\n",
    "# create mode--> x\n",
    "# read mode--> r\n",
    "# write mode-->w\n",
    "# append mode-->a"
   ]
  },
  {
   "cell_type": "code",
   "execution_count": 6,
   "id": "47ea1251",
   "metadata": {},
   "outputs": [
    {
     "name": "stdout",
     "output_type": "stream",
     "text": [
      "The file already exist\n"
     ]
    }
   ],
   "source": [
    "try:\n",
    "    b=open('data.txt','x')\n",
    "    b.close()\n",
    "except:\n",
    "    print(\"The file already exist\")"
   ]
  },
  {
   "cell_type": "code",
   "execution_count": 3,
   "id": "1cae23d3",
   "metadata": {},
   "outputs": [
    {
     "data": {
      "text/plain": [
       "'C:\\\\Users\\\\Asus\\\\Untitled Folder'"
      ]
     },
     "execution_count": 3,
     "metadata": {},
     "output_type": "execute_result"
    }
   ],
   "source": [
    "pwd #for location of current status\n"
   ]
  },
  {
   "cell_type": "code",
   "execution_count": 12,
   "id": "33aa8d18",
   "metadata": {},
   "outputs": [
    {
     "name": "stdout",
     "output_type": "stream",
     "text": [
      "<class 'str'>\n",
      "1.Hello World\n",
      "2.Hello World\n",
      "3.Hello World\n",
      "4.Hello World\n",
      "5.Hello World\n",
      "6..Hello World\n",
      "7.Hello World\n",
      "8.Hello World\n",
      "\n"
     ]
    }
   ],
   "source": [
    "b= open('data.txt','r')\n",
    "x=b.read()\n",
    "print(type(x))\n",
    "print(x)\n",
    "print(b.read())\n",
    "b.close()"
   ]
  },
  {
   "cell_type": "code",
   "execution_count": 11,
   "id": "e0f120ef",
   "metadata": {},
   "outputs": [
    {
     "name": "stdout",
     "output_type": "stream",
     "text": [
      "1.Hello World\n",
      "2.Hello World\n",
      "3.Hello World\n",
      "4.Hello World\n",
      "5.Hello World\n",
      "6..Hello World\n",
      "7.Hello World\n",
      "8.Hello World\n"
     ]
    }
   ],
   "source": [
    "with open('data.txt','r') as b:\n",
    "    \n",
    "    print(b.read()) #if used this program you need not to close"
   ]
  },
  {
   "cell_type": "code",
   "execution_count": 13,
   "id": "54176d75",
   "metadata": {},
   "outputs": [
    {
     "name": "stdout",
     "output_type": "stream",
     "text": [
      "<class 'list'>\n",
      "['1.Hello World', '2.Hello World', '3.Hello World', '4.Hello World', '5.Hello World', '6.Hello World', '7.Hello World', '8.Hello World']\n",
      "\n"
     ]
    }
   ],
   "source": [
    "b= open('data.txt','r')\n",
    "x=b.read().split('\\n')   #split----used to convert string to list\n",
    "print(type(x))\n",
    "print(x)\n",
    "print(b.read())\n",
    "b.close()"
   ]
  },
  {
   "cell_type": "code",
   "execution_count": 22,
   "id": "8078f6c8",
   "metadata": {},
   "outputs": [
    {
     "name": "stdout",
     "output_type": "stream",
     "text": [
      "1.Hello World\n",
      "2.Hell\n"
     ]
    }
   ],
   "source": [
    "b= open('data.txt','r')  #for reading the file data\n",
    "print(b.read(20))\n",
    "b.close()"
   ]
  },
  {
   "cell_type": "code",
   "execution_count": 21,
   "id": "8f597e54",
   "metadata": {},
   "outputs": [
    {
     "name": "stdout",
     "output_type": "stream",
     "text": [
      "enter line number4\n",
      "4.Hello World\n"
     ]
    }
   ],
   "source": [
    "line_number=int(input(\"enter line number\"))\n",
    "print(x[line_number-1])"
   ]
  },
  {
   "cell_type": "code",
   "execution_count": 19,
   "id": "e637bd54",
   "metadata": {},
   "outputs": [
    {
     "name": "stdout",
     "output_type": "stream",
     "text": [
      "<class 'str'>\n"
     ]
    },
    {
     "data": {
      "text/plain": [
       "['apple', 'ball', 'cat', 'dog']"
      ]
     },
     "execution_count": 19,
     "metadata": {},
     "output_type": "execute_result"
    }
   ],
   "source": [
    "a=\"apple-ball-cat-dog\"\n",
    "print(type(a))\n",
    "a.split('-')  #detects the seperator and splits according to it"
   ]
  },
  {
   "cell_type": "code",
   "execution_count": 24,
   "id": "298c89e4",
   "metadata": {},
   "outputs": [],
   "source": [
    "#writing the data in files and appending \n",
    "#append----to add\n",
    "#write--to override\n",
    "\n",
    "b=open('datas.txt','w')\n",
    "b.write('hello world i am python')\n",
    "b.close()"
   ]
  },
  {
   "cell_type": "code",
   "execution_count": 26,
   "id": "16df1459",
   "metadata": {},
   "outputs": [
    {
     "name": "stdout",
     "output_type": "stream",
     "text": [
      "enter a number2\n",
      "enter name= bikina\n",
      "enter ph num= 876756\n",
      "enter name= dipak\n",
      "enter ph num= 756453\n",
      "dipak  756453\n",
      "\n"
     ]
    }
   ],
   "source": [
    "s=str()\n",
    "n=int(input(\"enter a number\"))\n",
    "for i in range(n):\n",
    "    name=input(\"enter name= \")\n",
    "    phone=int(input(\"enter ph num= \"))\n",
    "    info=f\"{name}  {phone}\\n\"  #f is used for formaatting which helps to convert any int str and convert them in once.\n",
    "    s=s+info\n",
    "print(info)\n",
    "\n",
    "b=open('datas.txt','w')\n",
    "b.write(s)\n",
    "b.close() \n",
    "#codes of string plus code of files"
   ]
  },
  {
   "cell_type": "code",
   "execution_count": 4,
   "id": "0632e85b",
   "metadata": {},
   "outputs": [
    {
     "name": "stdout",
     "output_type": "stream",
     "text": [
      "enter a number2\n",
      "enter name= dfjfd\n",
      "enter ph num= 65453\n",
      "enter name= gngf\n",
      "enter ph num= 43\n",
      "gngf,43\n",
      "\n"
     ]
    }
   ],
   "source": [
    "s=str()\n",
    "n=int(input(\"enter a number\"))\n",
    "for i in range(n):\n",
    "    name=input(\"enter name= \")\n",
    "    phone=int(input(\"enter ph num= \"))\n",
    "    info=f\"{name},{phone}\\n\"  #f is used for formaatting which helps to convert any int str and convert them in once.\n",
    "    s=s+info\n",
    "print(info)\n",
    "\n",
    "b=open('datas.csv','w')\n",
    "b.write('name,phone\\n')\n",
    "b.write(s)\n",
    "b.close() "
   ]
  },
  {
   "cell_type": "code",
   "execution_count": 2,
   "id": "1e2311b9",
   "metadata": {},
   "outputs": [
    {
     "data": {
      "text/html": [
       "<div>\n",
       "<style scoped>\n",
       "    .dataframe tbody tr th:only-of-type {\n",
       "        vertical-align: middle;\n",
       "    }\n",
       "\n",
       "    .dataframe tbody tr th {\n",
       "        vertical-align: top;\n",
       "    }\n",
       "\n",
       "    .dataframe thead th {\n",
       "        text-align: right;\n",
       "    }\n",
       "</style>\n",
       "<table border=\"1\" class=\"dataframe\">\n",
       "  <thead>\n",
       "    <tr style=\"text-align: right;\">\n",
       "      <th></th>\n",
       "      <th>name</th>\n",
       "      <th>phone</th>\n",
       "    </tr>\n",
       "  </thead>\n",
       "  <tbody>\n",
       "    <tr>\n",
       "      <th>0</th>\n",
       "      <td>dfjfd</td>\n",
       "      <td>65453</td>\n",
       "    </tr>\n",
       "    <tr>\n",
       "      <th>1</th>\n",
       "      <td>gngf</td>\n",
       "      <td>43</td>\n",
       "    </tr>\n",
       "  </tbody>\n",
       "</table>\n",
       "</div>"
      ],
      "text/plain": [
       "    name  phone\n",
       "0  dfjfd  65453\n",
       "1   gngf     43"
      ]
     },
     "execution_count": 2,
     "metadata": {},
     "output_type": "execute_result"
    }
   ],
   "source": [
    "import pandas as pd\n",
    "df=pd.read_csv('datas.csv')\n",
    "df"
   ]
  },
  {
   "cell_type": "code",
   "execution_count": null,
   "id": "6def6490",
   "metadata": {},
   "outputs": [],
   "source": []
  }
 ],
 "metadata": {
  "kernelspec": {
   "display_name": "Python 3 (ipykernel)",
   "language": "python",
   "name": "python3"
  },
  "language_info": {
   "codemirror_mode": {
    "name": "ipython",
    "version": 3
   },
   "file_extension": ".py",
   "mimetype": "text/x-python",
   "name": "python",
   "nbconvert_exporter": "python",
   "pygments_lexer": "ipython3",
   "version": "3.9.7"
  }
 },
 "nbformat": 4,
 "nbformat_minor": 5
}
