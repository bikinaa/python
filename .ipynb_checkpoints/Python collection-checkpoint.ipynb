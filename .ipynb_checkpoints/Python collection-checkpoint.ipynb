{
 "cells": [
  {
   "cell_type": "code",
   "execution_count": null,
   "id": "f81326ba",
   "metadata": {},
   "outputs": [],
   "source": [
    "#python collection\n",
    "#list\n",
    "#tuple\n",
    "#dictionary\n",
    "#set"
   ]
  },
  {
   "cell_type": "code",
   "execution_count": null,
   "id": "1884c1d0",
   "metadata": {},
   "outputs": [],
   "source": [
    "#list\n",
    "#indexed\n",
    "#ordered\n",
    "#multipled or dictionary\n",
    "# -multiple\n",
    "\n"
   ]
  },
  {
   "cell_type": "code",
   "execution_count": null,
   "id": "03a0a707",
   "metadata": {},
   "outputs": [],
   "source": [
    "#list\n",
    "a=[\"apple\",\"ball\",\"cat\"]\n",
    "l=len(a)\n",
    "print(l)\n",
    "print(a)\n",
    "print(type(a))"
   ]
  },
  {
   "cell_type": "code",
   "execution_count": null,
   "id": "15f76118",
   "metadata": {},
   "outputs": [],
   "source": [
    "#list\n",
    "a=[\"apple\",\"ball\",\"cat\",\"dog\",\"eye\",\"fish\"]\n",
    "print(a[1])\n",
    "print(a[0:4])\n",
    "print(a[0:4:2])\n"
   ]
  },
  {
   "cell_type": "code",
   "execution_count": null,
   "id": "3198bf3b",
   "metadata": {},
   "outputs": [],
   "source": [
    "#ordered\n",
    "a=[\"apple\",\"ball\",\"cat\",\"dog\",\"eye\",\"fish\"]\n",
    "b=[1,2,3,4,5]\n",
    "c=b+a\n",
    "print(c)"
   ]
  },
  {
   "cell_type": "code",
   "execution_count": null,
   "id": "4f57bbab",
   "metadata": {},
   "outputs": [],
   "source": [
    "a=[\"apple\",\"ball\",\"cat\",\"dog\",\"eye\",\"fish\"]\n",
    "print(a*2) #though you multily it only saves one data"
   ]
  },
  {
   "cell_type": "code",
   "execution_count": null,
   "id": "2d58b9a1",
   "metadata": {},
   "outputs": [],
   "source": [
    "#multiple\n",
    "a=[1,2,3,4,5,\"apple\",\"ball\",\"cat\",\"dog\",\"eye\",\"fish\",1,2]\n",
    "l=len(a)\n",
    "print(l)"
   ]
  },
  {
   "cell_type": "code",
   "execution_count": null,
   "id": "547c61ab",
   "metadata": {},
   "outputs": [],
   "source": [
    "#mutabe\n",
    "a=[\"apple\",\"ball\",\"cat\",\"dog\",\"eye\",\"fish\"]\n",
    "a[0]='ant'\n",
    "a[0:4]=\"ant\",\"banana\",\"cow\",\"dice\"\n",
    "print(a)"
   ]
  },
  {
   "cell_type": "code",
   "execution_count": null,
   "id": "89230f90",
   "metadata": {},
   "outputs": [],
   "source": [
    "l=list()\n",
    "n=int(input(\"enter the value of n\"))\n",
    "for i in range(n):\n",
    "    x=int(input(\"enter the value of x\"))\n",
    "    l.append(x)\n",
    "print(l)\n"
   ]
  },
  {
   "cell_type": "code",
   "execution_count": null,
   "id": "059cb2d8",
   "metadata": {},
   "outputs": [],
   "source": [
    "#max min sum\n",
    "a=[2,3,4,5,1]\n",
    "print(max(a))\n",
    "print(min(a))\n",
    "print(sum(a))\n",
    "a.sort()\n",
    "print(a)\n"
   ]
  },
  {
   "cell_type": "code",
   "execution_count": null,
   "id": "039f24a7",
   "metadata": {},
   "outputs": [],
   "source": [
    "a=[\"apple\",\"ball\",\"cartoon\",\"doll\"]\n",
    "a.sort() #sort is only used in list\n",
    "print(a)"
   ]
  },
  {
   "cell_type": "code",
   "execution_count": null,
   "id": "7f5ed66f",
   "metadata": {},
   "outputs": [],
   "source": [
    "l=list()\n",
    "n=int(input(\"enter the value of n\"))\n",
    "for i in range(n):\n",
    "    x=input(\"enter the object\")\n",
    "    l.append(x)\n",
    "print(l)\n"
   ]
  },
  {
   "cell_type": "code",
   "execution_count": null,
   "id": "7b97ad5e",
   "metadata": {},
   "outputs": [],
   "source": [
    "a=[\"apple\",\"ball\",\"cartoon\",\"doll\"]\n",
    "for i in a:\n",
    "    print(i)"
   ]
  },
  {
   "cell_type": "code",
   "execution_count": null,
   "id": "09329ae6",
   "metadata": {},
   "outputs": [],
   "source": [
    "a=[\"apple\",\"ball\",\"cartoon\",\"doll\",\"apple\"]\n",
    "if \"apple\" in a:\n",
    "    print(\"yes\")\n",
    "    print(a.count(\"apple\"))\n",
    "\n",
    "    "
   ]
  },
  {
   "cell_type": "code",
   "execution_count": null,
   "id": "b67e59f2",
   "metadata": {},
   "outputs": [],
   "source": [
    "# append()\n",
    "# insert()\n",
    "# extend()"
   ]
  },
  {
   "cell_type": "code",
   "execution_count": null,
   "id": "72fb26e2",
   "metadata": {},
   "outputs": [],
   "source": [
    "a=[]\n",
    "a.append(\"apple\")\n",
    "print(a)"
   ]
  },
  {
   "cell_type": "code",
   "execution_count": null,
   "id": "f1ad2045",
   "metadata": {},
   "outputs": [],
   "source": [
    "a=[\"apple\",\"ball\",\"cartoon\",\"doll\",\"fish\"]\n",
    "a.insert(1,\"\")\n",
    "print(a)"
   ]
  },
  {
   "cell_type": "code",
   "execution_count": null,
   "id": "f09b4c61",
   "metadata": {},
   "outputs": [],
   "source": [
    "a=[\"apple\",\"ball\",\"cartoon\",\"doll\",\"fish\"]\n",
    "b=[1,2,3,4,5,6]\n",
    "a.extend(b)\n",
    "print(a)"
   ]
  },
  {
   "cell_type": "code",
   "execution_count": null,
   "id": "b306f64e",
   "metadata": {},
   "outputs": [],
   "source": [
    "#remove() del pop()\n",
    "a=[\"apple\",\"ball\",\"cartoon\",\"doll\",\"fish\"]\n",
    "a.remove(\"apple\")\n",
    "print(a)"
   ]
  },
  {
   "cell_type": "code",
   "execution_count": null,
   "id": "cf52bbfc",
   "metadata": {},
   "outputs": [],
   "source": [
    "a=[\"apple\",\"ball\",\"cartoon\",\"doll\",\"fish\"]\n",
    "del a[0:2]\n",
    "print(a)"
   ]
  },
  {
   "cell_type": "code",
   "execution_count": null,
   "id": "c2e8a4aa",
   "metadata": {},
   "outputs": [],
   "source": [
    "a=[\"apple\",\"ball\",\"cartoon\",\"doll\",\"fish\"]\n",
    "a.index(\"fish\")"
   ]
  },
  {
   "cell_type": "code",
   "execution_count": null,
   "id": "48b18a3f",
   "metadata": {},
   "outputs": [],
   "source": [
    "a=[\"apple\",\"ball\",\"cartoon\",\"apple\",\"doll\",\"fish\"]\n",
    "l=a.count(\"apple\")\n",
    "print(l)\n",
    "for i in range(l):\n",
    "    if a[i] ==\"apple\":\n",
    "        a.remove(a[i])\n",
    "    print(a)"
   ]
  },
  {
   "cell_type": "code",
   "execution_count": null,
   "id": "d7d02183",
   "metadata": {},
   "outputs": [],
   "source": [
    "b=[]\n",
    "a=[\"apple\",\"ball\",\"cartoon\",\"apple\",\"doll\",\"fish\",\"apple\"]\n",
    "for i in a:\n",
    "    if i!=\"apple\":\n",
    "        b.append(i)\n",
    "print(b)"
   ]
  },
  {
   "cell_type": "code",
   "execution_count": null,
   "id": "922420f1",
   "metadata": {},
   "outputs": [],
   "source": [
    "#WAP to detect index of same value\n",
    "a=[\"apple\",\"ball\",\"cartoon\",\"apple\",\"doll\",\"fish\",\"apple\",\"apple\"]\n",
    "l=len(a)\n",
    "for i in range(l):\n",
    "    \n",
    "    if a[i]==\"apple\":\n",
    "        print(a[i],i)\n",
    "\n",
    "   \n",
    "\n"
   ]
  },
  {
   "cell_type": "code",
   "execution_count": 3,
   "id": "daf11ba0",
   "metadata": {},
   "outputs": [
    {
     "name": "stdout",
     "output_type": "stream",
     "text": [
      "0\n",
      "0\n",
      "0\n",
      "0\n"
     ]
    }
   ],
   "source": [
    "a=[\"apple\",\"ball\",\"cartoon\",\"apple\",\"doll\",\"fish\",\"apple\",\"apple\"]\n",
    "for i in a:\n",
    "    if i ==\"apple\":\n",
    "        b=a.index(\"apple\")\n",
    "        print(b)\n",
    "        \n",
    "    \n",
    "\n",
    "    "
   ]
  },
  {
   "cell_type": "code",
   "execution_count": 1,
   "id": "f827cb05",
   "metadata": {},
   "outputs": [
    {
     "name": "stdout",
     "output_type": "stream",
     "text": [
      "3\n"
     ]
    }
   ],
   "source": [
    "# nested list or list inside list\n",
    "a=[[1,2,3],[4,5,6],[7,8,9]]\n",
    "print(len(a))"
   ]
  },
  {
   "cell_type": "code",
   "execution_count": 2,
   "id": "e0ed8827",
   "metadata": {},
   "outputs": [
    {
     "name": "stdout",
     "output_type": "stream",
     "text": [
      "[7, 8, 9]\n"
     ]
    }
   ],
   "source": [
    "print(a[2])"
   ]
  },
  {
   "cell_type": "code",
   "execution_count": 1,
   "id": "8f96b4aa",
   "metadata": {},
   "outputs": [
    {
     "data": {
      "text/plain": [
       "[['ram', 34, 'kathmandu'], ['Shyam', 23, 'patan'], ['hari', 54, 'bhaktapur']]"
      ]
     },
     "execution_count": 1,
     "metadata": {},
     "output_type": "execute_result"
    }
   ],
   "source": [
    "a=[['ram',34,'kathmandu'],\n",
    "  ['Shyam',23,'patan'],\n",
    "  ['hari',54,'bhaktapur']]\n",
    "a"
   ]
  },
  {
   "cell_type": "code",
   "execution_count": 2,
   "id": "7fd1cebf",
   "metadata": {},
   "outputs": [
    {
     "data": {
      "text/plain": [
       "'kathmandu'"
      ]
     },
     "execution_count": 2,
     "metadata": {},
     "output_type": "execute_result"
    }
   ],
   "source": [
    "a[0][2]"
   ]
  },
  {
   "cell_type": "code",
   "execution_count": 3,
   "id": "6e73c1b1",
   "metadata": {},
   "outputs": [
    {
     "name": "stdout",
     "output_type": "stream",
     "text": [
      "enter the name=ram\n",
      "['ram', 34, 'kathmandu']\n",
      "['Shyam', 23, 'patan']\n",
      "['hari', 54, 'bhaktapur']\n"
     ]
    }
   ],
   "source": [
    "name=input(\"enter the name=\")\n",
    "for i in a:\n",
    "    print(i)"
   ]
  },
  {
   "cell_type": "code",
   "execution_count": 4,
   "id": "df77a128",
   "metadata": {},
   "outputs": [
    {
     "name": "stdout",
     "output_type": "stream",
     "text": [
      "enter the name=ram\n",
      "['ram', 34, 'kathmandu']\n"
     ]
    }
   ],
   "source": [
    "name=input(\"enter the name=\")\n",
    "for i in a:\n",
    "    if name in i:\n",
    "        print(i)\n",
    "   "
   ]
  },
  {
   "cell_type": "code",
   "execution_count": 6,
   "id": "06754335",
   "metadata": {},
   "outputs": [
    {
     "name": "stdout",
     "output_type": "stream",
     "text": [
      "enter a number2\n",
      "enter a namebikina\n",
      "enter the age25\n",
      "enter the addresgaushala\n",
      "[['bikina', 25, 'gaushala']]\n",
      "enter a namedipak\n",
      "enter the age27\n",
      "enter the addresbhaktapur\n",
      "[['bikina', 25, 'gaushala'], ['dipak', 27, 'bhaktapur']]\n"
     ]
    }
   ],
   "source": [
    "b=[]\n",
    "n=int(input(\"enter a number\"))\n",
    "for i in range(n):\n",
    "    name=(input(\"enter a name\"))\n",
    "    age=int(input(\"enter the age\"))\n",
    "    add=input(\"enter the addres\")\n",
    "    append=[name,age,add]\n",
    "    b.append(append)\n",
    "    print(b)\n",
    "    "
   ]
  },
  {
   "cell_type": "code",
   "execution_count": 8,
   "id": "0ffefbe2",
   "metadata": {},
   "outputs": [
    {
     "data": {
      "text/plain": [
       "[['ram', 34], ['Shyam', 23, 'patan'], ['hari', 54, 'bhaktapur']]"
      ]
     },
     "execution_count": 8,
     "metadata": {},
     "output_type": "execute_result"
    }
   ],
   "source": [
    "a=[['ram', 34, 'kathmandu'], ['Shyam', 23, 'patan'], ['hari', 54, 'bhaktapur']]\n",
    "del a[0]\n",
    "a"
   ]
  },
  {
   "cell_type": "code",
   "execution_count": 9,
   "id": "8ef9c76b",
   "metadata": {},
   "outputs": [
    {
     "name": "stdout",
     "output_type": "stream",
     "text": [
      "[['sita', 34, 'kathmandu'], ['Shyam', 23, 'patan'], ['hari', 54, 'bhaktapur']]\n"
     ]
    }
   ],
   "source": [
    "a=[['ram', 34, 'kathmandu'], ['Shyam', 23, 'patan'], ['hari', 54, 'bhaktapur']]\n",
    "a[0][0]=\"sita\"\n",
    "print(a)"
   ]
  },
  {
   "cell_type": "code",
   "execution_count": 12,
   "id": "e7b96780",
   "metadata": {},
   "outputs": [
    {
     "data": {
      "text/plain": [
       "[['ram', 34, 'kathmandu'],\n",
       " ['Shyam', 23, 'patan'],\n",
       " ['hari', 54, 'bhaktapur'],\n",
       " ['ram', 32, 'machapokhari']]"
      ]
     },
     "execution_count": 12,
     "metadata": {},
     "output_type": "execute_result"
    }
   ],
   "source": [
    "a=[['ram', 34, 'kathmandu'], ['Shyam', 23, 'patan'], ['hari', 54, 'bhaktapur']]\n",
    "a.append(['ram',32,'machapokhari'])\n",
    "a"
   ]
  },
  {
   "cell_type": "code",
   "execution_count": 13,
   "id": "24cb911b",
   "metadata": {},
   "outputs": [
    {
     "name": "stdout",
     "output_type": "stream",
     "text": [
      "enter a nameram\n"
     ]
    },
    {
     "data": {
      "text/plain": [
       "[['Shyam', 23, 'patan'], ['hari', 54, 'bhaktapur']]"
      ]
     },
     "execution_count": 13,
     "metadata": {},
     "output_type": "execute_result"
    }
   ],
   "source": [
    "a=[['ram', 34, 'kathmandu'], ['Shyam', 23, 'patan'], ['hari', 54, 'bhaktapur']]\n",
    "name=input(\"enter a name\")\n",
    "for i in a:\n",
    "    if name in i:\n",
    "        a.remove(i)\n",
    "a"
   ]
  },
  {
   "cell_type": "code",
   "execution_count": 6,
   "id": "9d33db35",
   "metadata": {},
   "outputs": [
    {
     "ename": "ModuleNotFoundError",
     "evalue": "No module named 'maths'",
     "output_type": "error",
     "traceback": [
      "\u001b[1;31m---------------------------------------------------------------------------\u001b[0m",
      "\u001b[1;31mModuleNotFoundError\u001b[0m                       Traceback (most recent call last)",
      "\u001b[1;32m~\\AppData\\Local\\Temp/ipykernel_20564/4171762161.py\u001b[0m in \u001b[0;36m<module>\u001b[1;34m\u001b[0m\n\u001b[0;32m      1\u001b[0m \u001b[1;31m# WAP to create a matrix by taking row and column\u001b[0m\u001b[1;33m\u001b[0m\u001b[1;33m\u001b[0m\u001b[0m\n\u001b[1;32m----> 2\u001b[1;33m \u001b[1;32mimport\u001b[0m \u001b[0mmaths\u001b[0m \u001b[1;32mas\u001b[0m \u001b[0mm\u001b[0m\u001b[1;33m\u001b[0m\u001b[1;33m\u001b[0m\u001b[0m\n\u001b[0m\u001b[0;32m      3\u001b[0m \u001b[0mn\u001b[0m\u001b[1;33m=\u001b[0m\u001b[1;36m3\u001b[0m\u001b[1;33m\u001b[0m\u001b[1;33m\u001b[0m\u001b[0m\n\u001b[0;32m      4\u001b[0m \u001b[1;32mfor\u001b[0m \u001b[0mi\u001b[0m \u001b[1;32min\u001b[0m \u001b[0mrange\u001b[0m\u001b[1;33m(\u001b[0m\u001b[0mn\u001b[0m\u001b[1;33m)\u001b[0m\u001b[1;33m:\u001b[0m\u001b[1;33m\u001b[0m\u001b[1;33m\u001b[0m\u001b[0m\n\u001b[0;32m      5\u001b[0m     \u001b[0mx\u001b[0m\u001b[1;33m=\u001b[0m\u001b[0mint\u001b[0m\u001b[1;33m(\u001b[0m\u001b[0minput\u001b[0m\u001b[1;33m(\u001b[0m\u001b[1;34m\"enter value x\"\u001b[0m\u001b[1;33m)\u001b[0m\u001b[1;33m)\u001b[0m\u001b[1;33m\u001b[0m\u001b[1;33m\u001b[0m\u001b[0m\n",
      "\u001b[1;31mModuleNotFoundError\u001b[0m: No module named 'maths'"
     ]
    }
   ],
   "source": [
    "# WAP to create a matrix by taking row and column\n",
    "import \n",
    "n=3\n",
    "for i in range(n):\n",
    "    x=int(input(\"enter value x\"))\n",
    "    y=int(input(\"enter value of y\"))\n",
    "    z=(int(input(\"enter value of z\")))\n",
    "    list1=x,y,z\n",
    "    list2=y,z,x\n",
    "    list3=z,x,y\n",
    "matrix=m.matrix[list1,list2,list3]\n",
    "print(matrix)"
   ]
  },
  {
   "cell_type": "code",
   "execution_count": null,
   "id": "78aa0f3d",
   "metadata": {},
   "outputs": [],
   "source": []
  }
 ],
 "metadata": {
  "kernelspec": {
   "display_name": "Python 3 (ipykernel)",
   "language": "python",
   "name": "python3"
  },
  "language_info": {
   "codemirror_mode": {
    "name": "ipython",
    "version": 3
   },
   "file_extension": ".py",
   "mimetype": "text/x-python",
   "name": "python",
   "nbconvert_exporter": "python",
   "pygments_lexer": "ipython3",
   "version": "3.9.7"
  }
 },
 "nbformat": 4,
 "nbformat_minor": 5
}
