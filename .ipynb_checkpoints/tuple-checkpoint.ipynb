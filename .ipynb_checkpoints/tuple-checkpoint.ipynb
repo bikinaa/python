{
 "cells": [
  {
   "cell_type": "code",
   "execution_count": 1,
   "id": "ede036d9",
   "metadata": {},
   "outputs": [],
   "source": [
    "#tuple\n",
    "#indexed\n",
    "#ordered\n",
    "#multipled or duplicate data\n",
    "# -imultiple"
   ]
  },
  {
   "cell_type": "code",
   "execution_count": 6,
   "id": "60d74afd",
   "metadata": {},
   "outputs": [
    {
     "name": "stdout",
     "output_type": "stream",
     "text": [
      "(1, 2, 3, 4, 5, 6)\n",
      "<class 'tuple'>\n"
     ]
    }
   ],
   "source": [
    "a=tuple()\n",
    "a=(1,2,3,4,5,6)\n",
    "print(a)\n",
    "print(type(a))"
   ]
  },
  {
   "cell_type": "code",
   "execution_count": 7,
   "id": "2a5f0ab9",
   "metadata": {},
   "outputs": [
    {
     "name": "stdout",
     "output_type": "stream",
     "text": [
      "<class 'tuple'>\n",
      "<class 'tuple'>\n"
     ]
    }
   ],
   "source": [
    "a=(1,)\n",
    "b=('apple',)\n",
    "print(type(a))\n",
    "print(type(b))"
   ]
  },
  {
   "cell_type": "code",
   "execution_count": 10,
   "id": "8c533914",
   "metadata": {},
   "outputs": [
    {
     "name": "stdout",
     "output_type": "stream",
     "text": [
      "('apple', 'ball', 'cat', 'dog')\n",
      "apple\n"
     ]
    }
   ],
   "source": [
    "a=(\"apple\",\"ball\",\"cat\",\"dog\")\n",
    "print(a[0:4])\n",
    "print(a[0])"
   ]
  },
  {
   "cell_type": "code",
   "execution_count": 12,
   "id": "0b5fe3d6",
   "metadata": {},
   "outputs": [
    {
     "name": "stdout",
     "output_type": "stream",
     "text": [
      "('apple', 'ball', 'cat', 'dog', 'fish')\n"
     ]
    }
   ],
   "source": [
    "a=(\"apple\",\"ball\",\"cat\",\"dog\")\n",
    "b=(\"fish\",)\n",
    "c=a+b\n",
    "print(c)"
   ]
  },
  {
   "cell_type": "code",
   "execution_count": 13,
   "id": "a466e929",
   "metadata": {},
   "outputs": [
    {
     "data": {
      "text/plain": [
       "('apple', 'ball', 'cat', 'dog', 'apple', 'ball', 'cat', 'dog')"
      ]
     },
     "execution_count": 13,
     "metadata": {},
     "output_type": "execute_result"
    }
   ],
   "source": [
    "a=(\"apple\",\"ball\",\"cat\",\"dog\")\n",
    "a*2"
   ]
  },
  {
   "cell_type": "code",
   "execution_count": 14,
   "id": "24698f43",
   "metadata": {},
   "outputs": [],
   "source": [
    "# no append()\n",
    "# no insert()\n",
    "# no extend()\n",
    "# no update\n",
    "# no delete remove or pop\n"
   ]
  },
  {
   "cell_type": "code",
   "execution_count": 16,
   "id": "3652d7f0",
   "metadata": {},
   "outputs": [
    {
     "name": "stdout",
     "output_type": "stream",
     "text": [
      "enter the value of n2\n",
      "enter x=apple\n",
      "enter x=ball\n",
      "('apple', 'ball')\n"
     ]
    }
   ],
   "source": [
    "t=tuple()\n",
    "n=int(input(\"enter the value of n\"))\n",
    "for i in range(n):\n",
    "    x=input(\"enter x=\")\n",
    "    t=t+(x,)\n",
    "print(t)"
   ]
  },
  {
   "cell_type": "code",
   "execution_count": 18,
   "id": "bfb629bc",
   "metadata": {},
   "outputs": [
    {
     "data": {
      "text/plain": [
       "(10, 12)"
      ]
     },
     "execution_count": 18,
     "metadata": {},
     "output_type": "execute_result"
    }
   ],
   "source": [
    "def cal():\n",
    "    a=10\n",
    "    b=12\n",
    "    return a,b\n",
    "cal()"
   ]
  },
  {
   "cell_type": "code",
   "execution_count": 19,
   "id": "bef50738",
   "metadata": {},
   "outputs": [
    {
     "data": {
      "text/plain": [
       "(10, 11, 12)"
      ]
     },
     "execution_count": 19,
     "metadata": {},
     "output_type": "execute_result"
    }
   ],
   "source": [
    "a=10,11,12\n",
    "a\n"
   ]
  },
  {
   "cell_type": "code",
   "execution_count": 22,
   "id": "996bd3fc",
   "metadata": {},
   "outputs": [
    {
     "data": {
      "text/plain": [
       "('ball', 'cat', 'dog')"
      ]
     },
     "execution_count": 22,
     "metadata": {},
     "output_type": "execute_result"
    }
   ],
   "source": [
    "a=(\"apple\",\"ball\",\"cat\",\"dog\")\n",
    "b=list(a)\n",
    "del b[0]\n",
    "a=tuple(b)\n",
    "a"
   ]
  },
  {
   "cell_type": "code",
   "execution_count": 23,
   "id": "fcce526c",
   "metadata": {},
   "outputs": [
    {
     "name": "stdout",
     "output_type": "stream",
     "text": [
      "(('ram', 34, 'kathmandu'), ('Shyam', 23, 'patan'), ('hari', 54, 'bhaktapur'))\n"
     ]
    }
   ],
   "source": [
    "# tuple inside tuple\n",
    "a=(('ram',34,'kathmandu'),\n",
    "  ('Shyam',23,'patan'),\n",
    "  ('hari',54,'bhaktapur'))\n",
    "print(a)"
   ]
  },
  {
   "cell_type": "code",
   "execution_count": 24,
   "id": "c918c052",
   "metadata": {},
   "outputs": [
    {
     "name": "stdout",
     "output_type": "stream",
     "text": [
      "(('ram', 34, 'kathmandu'), ('Shyam', 23, 'patan'), ('hari', 54, 'bhaktapur'), ('nabin', 43, 'bharatpur'))\n"
     ]
    }
   ],
   "source": [
    "a=(('ram',34,'kathmandu'),\n",
    "  ('Shyam',23,'patan'),\n",
    "  ('hari',54,'bhaktapur'))\n",
    "b=(('nabin',43,'bharatpur'),) #tuple inside tuple to add a tuple\n",
    "print(a+b)"
   ]
  },
  {
   "cell_type": "code",
   "execution_count": 25,
   "id": "89a9ad5d",
   "metadata": {},
   "outputs": [],
   "source": [
    "# WAP to write tuple inside tuple"
   ]
  },
  {
   "cell_type": "code",
   "execution_count": 27,
   "id": "0e68558f",
   "metadata": {},
   "outputs": [
    {
     "data": {
      "text/plain": [
       "[('Shyam', 23, 'patan'), ('hari', 54, 'bhaktapur')]"
      ]
     },
     "execution_count": 27,
     "metadata": {},
     "output_type": "execute_result"
    }
   ],
   "source": [
    "a=(('ram',34,'kathmandu'),\n",
    "  ('Shyam',23,'patan'),\n",
    "  ('hari',54,'bhaktapur'))\n",
    "b=list(a)\n",
    "del b[0]\n",
    "b"
   ]
  },
  {
   "cell_type": "code",
   "execution_count": 28,
   "id": "76eba2e6",
   "metadata": {},
   "outputs": [
    {
     "data": {
      "text/plain": [
       "[('Shyam', 23, 'patan'), ('hari', 54, 'bhaktapur'), ('nabin', 67, 'bara')]"
      ]
     },
     "execution_count": 28,
     "metadata": {},
     "output_type": "execute_result"
    }
   ],
   "source": [
    "b.append(('nabin',67,'bara'))\n",
    "b"
   ]
  },
  {
   "cell_type": "code",
   "execution_count": 29,
   "id": "a6185811",
   "metadata": {},
   "outputs": [
    {
     "data": {
      "text/plain": [
       "('Shyam', 23, 'patan')"
      ]
     },
     "execution_count": 29,
     "metadata": {},
     "output_type": "execute_result"
    }
   ],
   "source": [
    "b[0]"
   ]
  },
  {
   "cell_type": "code",
   "execution_count": null,
   "id": "647a3c26",
   "metadata": {},
   "outputs": [],
   "source": [
    "# WAP to convert tuple inside tuple to list inside list\n",
    "#wap to perform CRUD list inside tuple    #create,remove,update,delete"
   ]
  }
 ],
 "metadata": {
  "kernelspec": {
   "display_name": "Python 3 (ipykernel)",
   "language": "python",
   "name": "python3"
  },
  "language_info": {
   "codemirror_mode": {
    "name": "ipython",
    "version": 3
   },
   "file_extension": ".py",
   "mimetype": "text/x-python",
   "name": "python",
   "nbconvert_exporter": "python",
   "pygments_lexer": "ipython3",
   "version": "3.9.7"
  }
 },
 "nbformat": 4,
 "nbformat_minor": 5
}
