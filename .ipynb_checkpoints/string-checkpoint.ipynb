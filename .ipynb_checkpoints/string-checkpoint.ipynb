{
 "cells": [
  {
   "cell_type": "code",
   "execution_count": 1,
   "id": "0bcf705e",
   "metadata": {},
   "outputs": [
    {
     "name": "stdout",
     "output_type": "stream",
     "text": [
      "hello world\n",
      "<class 'str'>\n"
     ]
    }
   ],
   "source": [
    "#string\n",
    "a=\"hello world\"\n",
    "print(a)\n",
    "print(type(a))"
   ]
  },
  {
   "cell_type": "code",
   "execution_count": 3,
   "id": "8ddd0bdf",
   "metadata": {},
   "outputs": [
    {
     "name": "stdout",
     "output_type": "stream",
     "text": [
      "hello\n",
      "world\n"
     ]
    }
   ],
   "source": [
    "a=\"hello\"\n",
    "b=\"world\"\n",
    "c=a+\"\\n\"+b\n",
    "print(c)"
   ]
  },
  {
   "cell_type": "code",
   "execution_count": 4,
   "id": "d6c06e1d",
   "metadata": {},
   "outputs": [
    {
     "name": "stdout",
     "output_type": "stream",
     "text": [
      "hello world\n",
      "hello world\n",
      "\n"
     ]
    }
   ],
   "source": [
    "a=\"hello world\\n\"\n",
    "print(a*2)\n"
   ]
  },
  {
   "cell_type": "code",
   "execution_count": 6,
   "id": "1531f4b8",
   "metadata": {},
   "outputs": [
    {
     "name": "stdout",
     "output_type": "stream",
     "text": [
      "o\n"
     ]
    }
   ],
   "source": [
    "a =\"hello world\"\n",
    "print(a[4])"
   ]
  },
  {
   "cell_type": "code",
   "execution_count": 7,
   "id": "9c4fbabb",
   "metadata": {},
   "outputs": [
    {
     "name": "stdout",
     "output_type": "stream",
     "text": [
      "hello\n"
     ]
    }
   ],
   "source": [
    "a =\"hello world\"\n",
    "print(a[0:5]) #number of index can be printed "
   ]
  },
  {
   "cell_type": "code",
   "execution_count": 9,
   "id": "780d0d8b",
   "metadata": {},
   "outputs": [
    {
     "name": "stdout",
     "output_type": "stream",
     "text": [
      "hlowr\n"
     ]
    }
   ],
   "source": [
    "a =\"hello world\"\n",
    "print(a[0:10:2]) #0 to 10 with skip or increment 1"
   ]
  },
  {
   "cell_type": "code",
   "execution_count": 10,
   "id": "11f4306d",
   "metadata": {},
   "outputs": [
    {
     "name": "stdout",
     "output_type": "stream",
     "text": [
      "hello\n",
      " world\n"
     ]
    }
   ],
   "source": [
    "a =\"hello world\"\n",
    "b= a[0:5]\n",
    "c=a[5:]\n",
    "print(b)\n",
    "print(c) #slicing of string like that of defining range"
   ]
  },
  {
   "cell_type": "code",
   "execution_count": 16,
   "id": "833a4e16",
   "metadata": {},
   "outputs": [
    {
     "name": "stdout",
     "output_type": "stream",
     "text": [
      "11\n",
      "dlrow olleh\n"
     ]
    }
   ],
   "source": [
    "a =\"hello world\"\n",
    "l=len(a)\n",
    "print(l)\n",
    "print(a[l::-1]) #l: if not placed any nummber it means till last ,even if -1 is written the last value disappears so we don't write -1"
   ]
  },
  {
   "cell_type": "code",
   "execution_count": 3,
   "id": "fa21cd40",
   "metadata": {},
   "outputs": [
    {
     "name": "stdout",
     "output_type": "stream",
     "text": [
      "enter name =bikina\n",
      "enter age=25\n",
      "enter address=gaushala\n",
      "Hello Iam bikina I am from gaushala Iam 25 years old\n"
     ]
    }
   ],
   "source": [
    "#string formatting\n",
    "name= input(\"enter name =\")\n",
    "age=int(input(\"enter age=\"))\n",
    "add=input(\"enter address=\")\n",
    "info=f\"Hello Iam {name} I am from {add} Iam {age} years old\"\n",
    "print(info)"
   ]
  },
  {
   "cell_type": "code",
   "execution_count": 4,
   "id": "bdb0267c",
   "metadata": {},
   "outputs": [
    {
     "name": "stdout",
     "output_type": "stream",
     "text": [
      "enter a number2\n",
      "enter name= bikina\n",
      "enter ph num= 9860911188\n",
      "enter name= dipak\n",
      "enter ph num= 9862707742\n",
      "dipak  9862707742\n",
      "\n"
     ]
    }
   ],
   "source": [
    "s=str()\n",
    "n=int(input(\"enter a number\"))\n",
    "for i in range(n):\n",
    "    name=input(\"enter name= \")\n",
    "    phone=int(input(\"enter ph num= \"))\n",
    "    info=f\"{name}  {phone}\\n\"  #f is used for formaatting which helps to convert any int str and convert them in once.\n",
    "    s=s+info\n",
    "print(info)"
   ]
  },
  {
   "cell_type": "code",
   "execution_count": 8,
   "id": "afab645d",
   "metadata": {},
   "outputs": [
    {
     "name": "stdout",
     "output_type": "stream",
     "text": [
      "enter name=Ram\n"
     ]
    }
   ],
   "source": [
    "a = \"ram shyam hari sita gita nabin\"\n",
    "name= input(\"enter name=\")\n",
    "if name in a:\n",
    "    print(\"yes\")\n",
    "    print(a.count(name))"
   ]
  },
  {
   "cell_type": "code",
   "execution_count": 10,
   "id": "f548afaa",
   "metadata": {},
   "outputs": [
    {
     "data": {
      "text/plain": [
       "<function str.lower()>"
      ]
     },
     "execution_count": 10,
     "metadata": {},
     "output_type": "execute_result"
    }
   ],
   "source": [
    "a = \"ram shyam hari sita gita nabin\"\n",
    "a.upper()\n",
    "a.lower"
   ]
  },
  {
   "cell_type": "code",
   "execution_count": 12,
   "id": "e3c739d2",
   "metadata": {},
   "outputs": [
    {
     "name": "stdout",
     "output_type": "stream",
     "text": [
      "enter name=shyam\n",
      "yes\n",
      "1\n"
     ]
    }
   ],
   "source": [
    "a = \"ram shyam hari sita gita nabin\".lower()  #if both kept in lower it can search the value else upper lower case makes an issue\n",
    "name= input(\"enter name=\").lower()\n",
    "if name in a:\n",
    "    print(\"yes\")\n",
    "    print(a.count(name))"
   ]
  },
  {
   "cell_type": "code",
   "execution_count": null,
   "id": "00029263",
   "metadata": {},
   "outputs": [],
   "source": []
  },
  {
   "cell_type": "code",
   "execution_count": null,
   "id": "b0784366",
   "metadata": {},
   "outputs": [],
   "source": []
  },
  {
   "cell_type": "code",
   "execution_count": 13,
   "id": "3ba2e298",
   "metadata": {},
   "outputs": [
    {
     "data": {
      "text/plain": [
       "'Ram Shyam Hari Sita Gita Nabin'"
      ]
     },
     "execution_count": 13,
     "metadata": {},
     "output_type": "execute_result"
    }
   ],
   "source": [
    "a = \"ram shyam hari sita gita nabin\"\n",
    "a.title()"
   ]
  },
  {
   "cell_type": "code",
   "execution_count": 15,
   "id": "87bc5352",
   "metadata": {},
   "outputs": [
    {
     "name": "stdout",
     "output_type": "stream",
     "text": [
      "RAM SHYAM HARI SITA GITA NABIN\n"
     ]
    }
   ],
   "source": [
    "a = \"ram shyam hari sita gita nabin\"\n",
    "a=a.upper() #used because a.upper() would only show not print in upper case unless a= is used\n",
    "print(a)"
   ]
  },
  {
   "cell_type": "code",
   "execution_count": 18,
   "id": "ad807985",
   "metadata": {},
   "outputs": [
    {
     "name": "stdout",
     "output_type": "stream",
     "text": [
      "RAM shyam hari sita gita nabin RAM rita\n"
     ]
    }
   ],
   "source": [
    "a = \"ram shyam hari sita gita nabin ram rita\"\n",
    "a=a.replace('ram',\"RAM\")\n",
    "print(a)\n"
   ]
  },
  {
   "cell_type": "code",
   "execution_count": 19,
   "id": "bc40b041",
   "metadata": {},
   "outputs": [
    {
     "name": "stdout",
     "output_type": "stream",
     "text": [
      " shyam hari sita gita nabin  rita\n"
     ]
    }
   ],
   "source": [
    "a = \"ram shyam hari sita gita nabin ram rita\"\n",
    "a=a.replace('ram',\"\")\n",
    "print(a)"
   ]
  },
  {
   "cell_type": "code",
   "execution_count": 20,
   "id": "3191c332",
   "metadata": {},
   "outputs": [
    {
     "data": {
      "text/plain": [
       "2"
      ]
     },
     "execution_count": 20,
     "metadata": {},
     "output_type": "execute_result"
    }
   ],
   "source": [
    "#juypter prints the last value even if you dont write print. so you should write print\n",
    "a=10\n",
    "b=2\n",
    "a\n",
    "b"
   ]
  },
  {
   "cell_type": "code",
   "execution_count": 1,
   "id": "0b66a941",
   "metadata": {},
   "outputs": [],
   "source": [
    "#WAP to develop a billing application using string and loop and formatting\n",
    "# Name\n",
    "# price\n",
    "# quantity\n",
    "# total\n",
    "# grandtotal"
   ]
  },
  {
   "cell_type": "code",
   "execution_count": 4,
   "id": "e571be77",
   "metadata": {
    "scrolled": true
   },
   "outputs": [
    {
     "name": "stdout",
     "output_type": "stream",
     "text": [
      "enter the numbr of item want to enter2\n",
      "enter the name of itemmilk\n",
      "enter the price of item20\n",
      "enter the quantity of item10\n",
      " Name milk Price 20 Quantity 10 total 200\n",
      "enter the name of itembread\n",
      "enter the price of item10\n",
      "enter the quantity of item2\n",
      " Name bread Price 10 Quantity 2 total 20\n",
      "the grand total is 220\n"
     ]
    }
   ],
   "source": [
    "\n",
    "n=int(input(\"enter the numbr of item want to enter\"))\n",
    "s=0\n",
    "for i in range(n):\n",
    "    \n",
    "    name=input(\"enter the name of item\")\n",
    "    price=int(input(\"enter the price of item\"))\n",
    "    quantity=int(input(\"enter the quantity of item\"))\n",
    "    total= price*quantity\n",
    "    info= f\" Name {name} Price {price} Quantity {quantity}\"\n",
    "    print(info,\"total\",total)\n",
    "    s=s+total\n",
    "\n",
    "\n",
    "print(\"The grand total is\" ,s)\n",
    "    \n"
   ]
  },
  {
   "cell_type": "code",
   "execution_count": null,
   "id": "cec95ef3",
   "metadata": {},
   "outputs": [],
   "source": []
  },
  {
   "cell_type": "code",
   "execution_count": null,
   "id": "1bfab5d1",
   "metadata": {},
   "outputs": [],
   "source": []
  },
  {
   "cell_type": "code",
   "execution_count": null,
   "id": "4e86a97b",
   "metadata": {},
   "outputs": [],
   "source": []
  }
 ],
 "metadata": {
  "kernelspec": {
   "display_name": "Python 3 (ipykernel)",
   "language": "python",
   "name": "python3"
  },
  "language_info": {
   "codemirror_mode": {
    "name": "ipython",
    "version": 3
   },
   "file_extension": ".py",
   "mimetype": "text/x-python",
   "name": "python",
   "nbconvert_exporter": "python",
   "pygments_lexer": "ipython3",
   "version": "3.9.7"
  }
 },
 "nbformat": 4,
 "nbformat_minor": 5
}
