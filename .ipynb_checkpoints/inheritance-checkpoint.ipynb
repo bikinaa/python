{
 "cells": [
  {
   "cell_type": "code",
   "execution_count": null,
   "id": "f657e752",
   "metadata": {},
   "outputs": [],
   "source": [
    "# class A:\n",
    "#     pass \n",
    "# class B(A):\n",
    "#     pass\n",
    "\n",
    "\n",
    "# obj= B()        inheritance"
   ]
  },
  {
   "cell_type": "code",
   "execution_count": 1,
   "id": "0b25ffc9",
   "metadata": {},
   "outputs": [
    {
     "name": "stdout",
     "output_type": "stream",
     "text": [
      "enter the name=bikina\n",
      "enter address=gaushala\n",
      "Hello my name is bikina.iam from gaushala\n"
     ]
    }
   ],
   "source": [
    "class A:\n",
    "    def __init__(self):\n",
    "        self.name=input(\"enter the name=\")\n",
    "        self.add=input(\"enter address=\")\n",
    "class B(A):\n",
    "    def info(self):\n",
    "        print(f\"Hello my name is {self.name}.iam from {self.add}\")\n",
    "obj= B()\n",
    "obj.info()\n",
    "        "
   ]
  },
  {
   "cell_type": "code",
   "execution_count": 2,
   "id": "6d4fe53b",
   "metadata": {},
   "outputs": [
    {
     "name": "stdout",
     "output_type": "stream",
     "text": [
      "enter the name=ram\n",
      "enter address=bhaktapaur\n",
      "Hello my name is ram.iam from bhaktapaur\n"
     ]
    }
   ],
   "source": [
    "class A:\n",
    "    def __init__(self,name,add):\n",
    "        self.name=name\n",
    "        self.add=add\n",
    "\n",
    "        \n",
    "        \n",
    "class B(A):\n",
    "    def info(self):\n",
    "        print(f\"Hello my name is {self.name}.I am from {self.add}\")\n",
    "name=input(\"enter the name=\")\n",
    "add=input(\"enter address=\")\n",
    "\n",
    "obj= B(name,add)  #object always represents the child class\n",
    "obj.info()"
   ]
  },
  {
   "cell_type": "code",
   "execution_count": null,
   "id": "29aa45c8",
   "metadata": {},
   "outputs": [],
   "source": [
    "# class A:\n",
    "#     pass\n",
    "# class B(A):\n",
    "#     pass\n",
    "# class C(B):\n",
    "#     pass\n",
    "\n",
    "\n",
    "# obj= C()    multilevel inheritance"
   ]
  },
  {
   "cell_type": "code",
   "execution_count": null,
   "id": "58191849",
   "metadata": {},
   "outputs": [],
   "source": [
    "# class A:\n",
    "#     pass\n",
    "# class B:\n",
    "#     pass\n",
    "# class C(A,B):\n",
    "#     pass\n",
    "\n",
    "\n",
    "# obj= C()     multiple class(derived)"
   ]
  },
  {
   "cell_type": "code",
   "execution_count": 6,
   "id": "b0df0bf3",
   "metadata": {},
   "outputs": [
    {
     "name": "stdout",
     "output_type": "stream",
     "text": [
      "hello world iam Ram. i am from Kathmandu i am 24 years old\n"
     ]
    }
   ],
   "source": [
    "class A:\n",
    "    def __init__(self,address):\n",
    "        self.address=address\n",
    "    def address(self):\n",
    "        print('I am from {self.address}')\n",
    "class B(A):\n",
    "    def __init__(self,age,address):\n",
    "        self.age=age\n",
    "        A.__init__(self,address)\n",
    "    def age(self):\n",
    "        print(\"i am {self.age}\")\n",
    "class C(B):\n",
    "    def __init__(self,name,age,address):\n",
    "        self.name=name\n",
    "        B.__init__(self,age,address)\n",
    "    def info(self):\n",
    "        print(f\"hello world iam {self.name}. i am from {self.address} i am {self.age} years old\")\n",
    "        \n",
    "\n",
    "\n",
    "obj= C(\"Ram\",24,\"Kathmandu\")  \n",
    "obj.info()"
   ]
  },
  {
   "cell_type": "code",
   "execution_count": 10,
   "id": "fe079ec9",
   "metadata": {},
   "outputs": [
    {
     "name": "stdout",
     "output_type": "stream",
     "text": [
      "hello world iam Ram. i am from Kathmandu i am 24 years old\n"
     ]
    }
   ],
   "source": [
    "class A:\n",
    "    def __init__(self,address):\n",
    "        self.address=address\n",
    "#     def address(self):\n",
    "#         print('I am from {self.address}')\n",
    "class B:\n",
    "    def __init__(self,age):\n",
    "        self.age=age\n",
    "        \n",
    "#     def age(self):\n",
    "#         print(\"i am {self.age}\")\n",
    "class C(A,B):\n",
    "    def __init__(self,name,age,address):\n",
    "        self.name=name\n",
    "        B.__init__(self,age)\n",
    "        A.__init__(self,address)\n",
    "    def info(self):\n",
    "        print(f\"hello world iam {self.name}. i am from {self.address} i am {self.age} years old\")\n",
    "        \n",
    "\n",
    "\n",
    "obj= C(\"Ram\",24,\"Kathmandu\")  \n",
    "obj.info()"
   ]
  },
  {
   "cell_type": "code",
   "execution_count": 16,
   "id": "c797fe19",
   "metadata": {},
   "outputs": [
    {
     "name": "stdout",
     "output_type": "stream",
     "text": [
      "hello i am 23 years old. i am from kathmandu\n"
     ]
    }
   ],
   "source": [
    "class A:\n",
    "    def __init__(self):\n",
    "        self.add=\"kathmandu\"\n",
    "    def a(self):\n",
    "        pass\n",
    "class B:\n",
    "    def __init__(self):\n",
    "        self.age=23\n",
    "    def b(self):\n",
    "        pass\n",
    "        \n",
    "class C(A,B):\n",
    "    def __init__(self):\n",
    "        A.__init__(self)\n",
    "        B.__init__(self)\n",
    "    def info(self):\n",
    "        print(f\"hello i am {self.age} years old. i am from {self.add}\")\n",
    "              \n",
    "              \n",
    "obj = C()\n",
    "obj.info()"
   ]
  },
  {
   "cell_type": "code",
   "execution_count": 1,
   "id": "1bca20c9",
   "metadata": {},
   "outputs": [
    {
     "name": "stdout",
     "output_type": "stream",
     "text": [
      "ram\n",
      "34\n",
      "kathmandu\n"
     ]
    }
   ],
   "source": [
    "# public memebers\n",
    "class Info:\n",
    "    def __init__(self,name,age,address):\n",
    "        self.name=name\n",
    "        self.age=age\n",
    "        self.address=address\n",
    "obj = Info(\"ram\",34,\"kathmandu\")\n",
    "print(obj.name)\n",
    "print(obj.age)\n",
    "print(obj.address)\n"
   ]
  },
  {
   "cell_type": "code",
   "execution_count": 2,
   "id": "582ba6f3",
   "metadata": {},
   "outputs": [
    {
     "name": "stdout",
     "output_type": "stream",
     "text": [
      "ram\n",
      "34\n",
      "kathmandu\n"
     ]
    }
   ],
   "source": [
    "# protected memebers (we keep underscore after the dot)\n",
    "class Info:\n",
    "    def __init__(self,name,age,address):\n",
    "        self._name=name\n",
    "        self._age=age\n",
    "        self._address=address\n",
    "obj = Info(\"ram\",34,\"kathmandu\")\n",
    "print(obj._name)\n",
    "print(obj._age)\n",
    "print(obj._address)\n"
   ]
  },
  {
   "cell_type": "code",
   "execution_count": 3,
   "id": "70350ae6",
   "metadata": {},
   "outputs": [
    {
     "ename": "AttributeError",
     "evalue": "'Info' object has no attribute '__name'",
     "output_type": "error",
     "traceback": [
      "\u001b[1;31m---------------------------------------------------------------------------\u001b[0m",
      "\u001b[1;31mAttributeError\u001b[0m                            Traceback (most recent call last)",
      "\u001b[1;32m~\\AppData\\Local\\Temp/ipykernel_9916/1923971391.py\u001b[0m in \u001b[0;36m<module>\u001b[1;34m\u001b[0m\n\u001b[0;32m      6\u001b[0m         \u001b[0mself\u001b[0m\u001b[1;33m.\u001b[0m\u001b[0m__address\u001b[0m\u001b[1;33m=\u001b[0m\u001b[0maddress\u001b[0m\u001b[1;33m\u001b[0m\u001b[1;33m\u001b[0m\u001b[0m\n\u001b[0;32m      7\u001b[0m \u001b[0mobj\u001b[0m \u001b[1;33m=\u001b[0m \u001b[0mInfo\u001b[0m\u001b[1;33m(\u001b[0m\u001b[1;34m\"ram\"\u001b[0m\u001b[1;33m,\u001b[0m\u001b[1;36m34\u001b[0m\u001b[1;33m,\u001b[0m\u001b[1;34m\"kathmandu\"\u001b[0m\u001b[1;33m)\u001b[0m\u001b[1;33m\u001b[0m\u001b[1;33m\u001b[0m\u001b[0m\n\u001b[1;32m----> 8\u001b[1;33m \u001b[0mprint\u001b[0m\u001b[1;33m(\u001b[0m\u001b[0mobj\u001b[0m\u001b[1;33m.\u001b[0m\u001b[0m__name\u001b[0m\u001b[1;33m)\u001b[0m\u001b[1;33m\u001b[0m\u001b[1;33m\u001b[0m\u001b[0m\n\u001b[0m\u001b[0;32m      9\u001b[0m \u001b[0mprint\u001b[0m\u001b[1;33m(\u001b[0m\u001b[0mobj\u001b[0m\u001b[1;33m.\u001b[0m\u001b[0m__age\u001b[0m\u001b[1;33m)\u001b[0m\u001b[1;33m\u001b[0m\u001b[1;33m\u001b[0m\u001b[0m\n\u001b[0;32m     10\u001b[0m \u001b[0mprint\u001b[0m\u001b[1;33m(\u001b[0m\u001b[0mobj\u001b[0m\u001b[1;33m.\u001b[0m\u001b[0m__address\u001b[0m\u001b[1;33m)\u001b[0m\u001b[1;33m\u001b[0m\u001b[1;33m\u001b[0m\u001b[0m\n",
      "\u001b[1;31mAttributeError\u001b[0m: 'Info' object has no attribute '__name'"
     ]
    }
   ],
   "source": [
    "# private members (we use double underscore)\n",
    "class Info:\n",
    "    def __init__(self,name,age,address):\n",
    "        self.__name=name\n",
    "        self.__age=age\n",
    "        self.__address=address\n",
    "obj = Info(\"ram\",34,\"kathmandu\")\n",
    "print(obj.__name)\n",
    "print(obj.__age)\n",
    "print(obj.__address)"
   ]
  },
  {
   "cell_type": "code",
   "execution_count": 7,
   "id": "84424f84",
   "metadata": {},
   "outputs": [
    {
     "name": "stdout",
     "output_type": "stream",
     "text": [
      "ram\n",
      "34\n",
      "kathmandu\n"
     ]
    }
   ],
   "source": [
    "# private members (we use double underscore)\n",
    "class Info:\n",
    "    def __init__(self,name,age,address):\n",
    "        self.__name=name\n",
    "        self.__age=age\n",
    "        self.__address=address\n",
    "obj = Info(\"ram\",34,\"kathmandu\")\n",
    "print(obj._Info__name)\n",
    "print(obj._Info__age)\n",
    "print(obj._Info__address)"
   ]
  },
  {
   "cell_type": "code",
   "execution_count": 13,
   "id": "1969c298",
   "metadata": {},
   "outputs": [
    {
     "name": "stdout",
     "output_type": "stream",
     "text": [
      "enter the name=bikina\n",
      "enter the value of age25\n",
      "enter address=gaushala\n",
      "Hello my name is bikina. iam gaushala years old\n",
      "Hello World I am bikina. I am from gaushala. Iam 25 years old\n"
     ]
    }
   ],
   "source": [
    "class A:\n",
    "    def __init__(self,name,age,add):\n",
    "        self.name=name\n",
    "        self._add=add\n",
    "        self.__age=age\n",
    "\n",
    "    def a(self):\n",
    "        print(f\"Hello World I am {self.name}. I am from {self._add}. Iam {self.__age} years old\")\n",
    "        \n",
    "class B(A):\n",
    "    def info(self):\n",
    "        print(f\"Hello my name is {self.name}. iam {self._add} years old\")\n",
    "name=input(\"enter the name=\")\n",
    "age=int(input(\"enter the value of age\"))\n",
    "add=input(\"enter address=\")\n",
    "\n",
    "obj= B(name,age,add) \n",
    "obj.info()\n",
    "obj.a()"
   ]
  },
  {
   "cell_type": "code",
   "execution_count": 14,
   "id": "266bda9c",
   "metadata": {},
   "outputs": [
    {
     "name": "stdout",
     "output_type": "stream",
     "text": [
      "hello world iam Ram. i am from Kathmandu i am 24 years old\n"
     ]
    }
   ],
   "source": [
    "class A:\n",
    "    def __init__(self,address):\n",
    "        self._address=address\n",
    "    def address(self):\n",
    "        print('I am from {self.address}')\n",
    "class B:\n",
    "    def __init__(self,age):\n",
    "        self._age=age\n",
    "        \n",
    "    def age(self):\n",
    "        print(\"i am {self.age}\")\n",
    "class C(A,B):\n",
    "    def __init__(self,name,age,address):\n",
    "        self.__name=name\n",
    "        B.__init__(self,age)\n",
    "        A.__init__(self,address)\n",
    "    def info(self):\n",
    "        print(f\"hello world iam {self.__name}. i am from {self._address} i am {self._age} years old\")\n",
    "        \n",
    "\n",
    "\n",
    "obj= C(\"Ram\",24,\"Kathmandu\")  \n",
    "obj.info()"
   ]
  },
  {
   "cell_type": "code",
   "execution_count": 18,
   "id": "99eace73",
   "metadata": {},
   "outputs": [
    {
     "name": "stdout",
     "output_type": "stream",
     "text": [
      "enter the name=bikina\n",
      "enter address=guashala\n",
      "Heloo my name is bikina\n",
      "Heloo my name is bikina I am from guashala\n"
     ]
    }
   ],
   "source": [
    "class A:\n",
    "    def __init__(self,name,add):\n",
    "        self.name=name\n",
    "        self.add=add\n",
    "    def a(self):\n",
    "        return f\"Heloo my name is {self. name}\"\n",
    "\n",
    "        \n",
    "        \n",
    "class B(A):\n",
    "    def info(self):\n",
    "        print(super().a())\n",
    "        print(super().a(), f\"I am from {self.add}\")\n",
    "name=input(\"enter the name=\")\n",
    "add=input(\"enter address=\")\n",
    "\n",
    "obj= B(name,add)  #object always represents the child class\n",
    "obj.info()"
   ]
  },
  {
   "cell_type": "code",
   "execution_count": null,
   "id": "a2eec6fa",
   "metadata": {},
   "outputs": [],
   "source": [
    "[['Ram',34],['Shyam',32]]"
   ]
  },
  {
   "cell_type": "code",
   "execution_count": 24,
   "id": "52ad74d6",
   "metadata": {},
   "outputs": [
    {
     "ename": "NameError",
     "evalue": "name 'self' is not defined",
     "output_type": "error",
     "traceback": [
      "\u001b[1;31m---------------------------------------------------------------------------\u001b[0m",
      "\u001b[1;31mNameError\u001b[0m                                 Traceback (most recent call last)",
      "\u001b[1;32m~\\AppData\\Local\\Temp/ipykernel_9916/3013368917.py\u001b[0m in \u001b[0;36m<module>\u001b[1;34m\u001b[0m\n\u001b[0;32m      7\u001b[0m         \u001b[0mself\u001b[0m\u001b[1;33m.\u001b[0m\u001b[0mage\u001b[0m\u001b[1;33m=\u001b[0m\u001b[0mage\u001b[0m\u001b[1;33m\u001b[0m\u001b[1;33m\u001b[0m\u001b[0m\n\u001b[0;32m      8\u001b[0m         \u001b[0mprint\u001b[0m\u001b[1;33m(\u001b[0m\u001b[1;34mf\"{self.age}\"\u001b[0m\u001b[1;33m)\u001b[0m\u001b[1;33m\u001b[0m\u001b[1;33m\u001b[0m\u001b[0m\n\u001b[1;32m----> 9\u001b[1;33m \u001b[1;32mclass\u001b[0m \u001b[0mC\u001b[0m\u001b[1;33m(\u001b[0m\u001b[0mA\u001b[0m\u001b[1;33m,\u001b[0m\u001b[0mB\u001b[0m\u001b[1;33m)\u001b[0m\u001b[1;33m:\u001b[0m\u001b[1;33m\u001b[0m\u001b[1;33m\u001b[0m\u001b[0m\n\u001b[0m\u001b[0;32m     10\u001b[0m     \u001b[1;32mdef\u001b[0m \u001b[0m__init__\u001b[0m\u001b[1;33m(\u001b[0m\u001b[0mself\u001b[0m\u001b[1;33m,\u001b[0m\u001b[0mname\u001b[0m\u001b[1;33m,\u001b[0m\u001b[0mage\u001b[0m\u001b[1;33m)\u001b[0m\u001b[1;33m:\u001b[0m\u001b[1;33m\u001b[0m\u001b[1;33m\u001b[0m\u001b[0m\n\u001b[0;32m     11\u001b[0m         \u001b[0mself\u001b[0m\u001b[1;33m.\u001b[0m\u001b[0mname\u001b[0m\u001b[1;33m=\u001b[0m\u001b[0mname\u001b[0m\u001b[1;33m\u001b[0m\u001b[1;33m\u001b[0m\u001b[0m\n",
      "\u001b[1;32m~\\AppData\\Local\\Temp/ipykernel_9916/3013368917.py\u001b[0m in \u001b[0;36mC\u001b[1;34m()\u001b[0m\n\u001b[0;32m     14\u001b[0m     \u001b[1;32mdef\u001b[0m \u001b[0minfo\u001b[0m\u001b[1;33m(\u001b[0m\u001b[0mself\u001b[0m\u001b[1;33m)\u001b[0m\u001b[1;33m:\u001b[0m\u001b[1;33m\u001b[0m\u001b[1;33m\u001b[0m\u001b[0m\n\u001b[0;32m     15\u001b[0m         \u001b[0mprint\u001b[0m\u001b[1;33m(\u001b[0m\u001b[1;34mf\"{self.name},{self.age}\"\u001b[0m\u001b[1;33m)\u001b[0m\u001b[1;33m\u001b[0m\u001b[1;33m\u001b[0m\u001b[0m\n\u001b[1;32m---> 16\u001b[1;33m     \u001b[0mB\u001b[0m\u001b[1;33m.\u001b[0m\u001b[0m__init__\u001b[0m\u001b[1;33m(\u001b[0m\u001b[0mself\u001b[0m\u001b[1;33m,\u001b[0m\u001b[0mage\u001b[0m\u001b[1;33m)\u001b[0m\u001b[1;33m\u001b[0m\u001b[1;33m\u001b[0m\u001b[0m\n\u001b[0m\u001b[0;32m     17\u001b[0m     \u001b[0mA\u001b[0m\u001b[1;33m.\u001b[0m\u001b[0m__init__\u001b[0m\u001b[1;33m(\u001b[0m\u001b[0mself\u001b[0m\u001b[1;33m,\u001b[0m\u001b[0mname\u001b[0m\u001b[1;33m)\u001b[0m\u001b[1;33m\u001b[0m\u001b[1;33m\u001b[0m\u001b[0m\n\u001b[0;32m     18\u001b[0m \u001b[1;33m\u001b[0m\u001b[0m\n",
      "\u001b[1;31mNameError\u001b[0m: name 'self' is not defined"
     ]
    }
   ],
   "source": [
    "class A:\n",
    "    def __init__(self,name):\n",
    "        self.name=name\n",
    "        print(f\"{self.name}\")\n",
    "class B:\n",
    "    def __init__(self,age):\n",
    "        self.age=age\n",
    "        print(f\"{self.age}\")\n",
    "class C(A,B):\n",
    "    def __init__(self,name,age):\n",
    "        self.name=name\n",
    "        self.age=age\n",
    "        \n",
    "    def info(self):\n",
    "        print(f\"{self.name},{self.age}\")\n",
    "    B.__init__(self,age)\n",
    "    A.__init__(self,name)\n",
    "\n",
    "obj=C(\"ram\",34)\n",
    "obj.info()\n",
    "obj.name()\n",
    "obj.age()\n"
   ]
  },
  {
   "cell_type": "code",
   "execution_count": null,
   "id": "221bba8c",
   "metadata": {},
   "outputs": [],
   "source": []
  }
 ],
 "metadata": {
  "kernelspec": {
   "display_name": "Python 3 (ipykernel)",
   "language": "python",
   "name": "python3"
  },
  "language_info": {
   "codemirror_mode": {
    "name": "ipython",
    "version": 3
   },
   "file_extension": ".py",
   "mimetype": "text/x-python",
   "name": "python",
   "nbconvert_exporter": "python",
   "pygments_lexer": "ipython3",
   "version": "3.9.7"
  }
 },
 "nbformat": 4,
 "nbformat_minor": 5
}
