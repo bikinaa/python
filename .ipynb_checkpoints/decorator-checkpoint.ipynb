{
 "cells": [
  {
   "cell_type": "code",
   "execution_count": 2,
   "id": "3b961994",
   "metadata": {},
   "outputs": [
    {
     "name": "stdout",
     "output_type": "stream",
     "text": [
      "Hello world\n"
     ]
    }
   ],
   "source": [
    "def main():\n",
    "    value=\"Hello world\"\n",
    "    def inner_function():\n",
    "        \n",
    "        print(value)\n",
    "    return inner_function()\n",
    "    \n",
    "    \n",
    "main()"
   ]
  },
  {
   "cell_type": "code",
   "execution_count": 3,
   "id": "536c860f",
   "metadata": {},
   "outputs": [
    {
     "name": "stdout",
     "output_type": "stream",
     "text": [
      "hello world\n"
     ]
    }
   ],
   "source": [
    "value = \"hello world\"\n",
    "def main():\n",
    "    def inner_function():\n",
    "        \n",
    "        print(value)\n",
    "    return inner_function()\n",
    "    \n",
    "    \n",
    "main()"
   ]
  },
  {
   "cell_type": "code",
   "execution_count": 10,
   "id": "ef0c6cbd",
   "metadata": {},
   "outputs": [
    {
     "name": "stdout",
     "output_type": "stream",
     "text": [
      "Heello World\n"
     ]
    }
   ],
   "source": [
    "def outer_function(fun):\n",
    "    \n",
    "    def inner_function():\n",
    "        x=fun()\n",
    "    return inner_function()\n",
    "    \n",
    "@outer_function\n",
    "def Hello():\n",
    "    print(\"Heello World\")"
   ]
  },
  {
   "cell_type": "code",
   "execution_count": 19,
   "id": "976dc6ae",
   "metadata": {},
   "outputs": [
    {
     "data": {
      "text/plain": [
       "'hello world'"
      ]
     },
     "execution_count": 19,
     "metadata": {},
     "output_type": "execute_result"
    }
   ],
   "source": [
    "def strings(function):\n",
    "    def wrapper():\n",
    "        fun=function()\n",
    "        x=fun.lower()\n",
    "        return x\n",
    "    return wrapper\n",
    "\n",
    "@strings\n",
    "def info():\n",
    "    return \"HELLO world\"\n",
    "\n",
    "info()"
   ]
  },
  {
   "cell_type": "code",
   "execution_count": 21,
   "id": "827769e1",
   "metadata": {},
   "outputs": [
    {
     "name": "stdout",
     "output_type": "stream",
     "text": [
      "[0, 1, 2, 3, 4, 5, 6, 7, 8, 9, 10, 11, 12, 13, 14, 15, 16, 17, 18, 19]\n"
     ]
    }
   ],
   "source": [
    "#BONUS CHAPTER COMPREHENSION:LIST,DICTIONARY\n",
    "a=[]\n",
    "for i in range(0,20):\n",
    "    a.append(i)\n",
    "print(a)"
   ]
  },
  {
   "cell_type": "code",
   "execution_count": 23,
   "id": "c4a7b037",
   "metadata": {},
   "outputs": [
    {
     "name": "stdout",
     "output_type": "stream",
     "text": [
      "[0, 1, 2, 3, 4, 5, 6, 7, 8, 9, 10, 11, 12, 13, 14, 15, 16, 17, 18, 19]\n"
     ]
    }
   ],
   "source": [
    "a=[i for i in range(0,20)]\n",
    "print(a)"
   ]
  },
  {
   "cell_type": "code",
   "execution_count": 26,
   "id": "b90e1e16",
   "metadata": {},
   "outputs": [
    {
     "name": "stdout",
     "output_type": "stream",
     "text": [
      "[0, 2, 4, 6, 8, 10, 12, 14, 16, 18]\n"
     ]
    }
   ],
   "source": [
    "a=[i for i in range(0,20) if i%2==0]\n",
    "print(a)"
   ]
  },
  {
   "cell_type": "code",
   "execution_count": 28,
   "id": "40ea8aba",
   "metadata": {},
   "outputs": [
    {
     "data": {
      "text/plain": [
       "[4235, 435, 42345, 5345, 345]"
      ]
     },
     "execution_count": 28,
     "metadata": {},
     "output_type": "execute_result"
    }
   ],
   "source": [
    "a=[234,42,23,4235,435,654,5346,45342,24354,4534,23353,42345,5345,5434,54,232,3564,345,5342]\n",
    "[i for i in a if i%5==0]"
   ]
  },
  {
   "cell_type": "code",
   "execution_count": 31,
   "id": "e258aece",
   "metadata": {},
   "outputs": [
    {
     "name": "stdout",
     "output_type": "stream",
     "text": [
      "['apple']\n"
     ]
    }
   ],
   "source": [
    "a=[\"apple\",\"ball\",\"cat\",\"dog\",\"egg\",\"fish\",\"goat\",\"house\"]\n",
    "b=[i for i in a if i[0]==\"a\"]\n",
    "print(b)"
   ]
  },
  {
   "cell_type": "code",
   "execution_count": 32,
   "id": "edb603ac",
   "metadata": {},
   "outputs": [
    {
     "data": {
      "text/plain": [
       "{1: 1, 2: 4, 3: 9, 4: 16, 5: 25, 6: 36, 7: 49, 8: 64, 9: 81, 10: 100}"
      ]
     },
     "execution_count": 32,
     "metadata": {},
     "output_type": "execute_result"
    }
   ],
   "source": [
    "d={i:i**2 for i in range (1,11)}\n",
    "d"
   ]
  },
  {
   "cell_type": "code",
   "execution_count": 36,
   "id": "d9d14fbe",
   "metadata": {},
   "outputs": [
    {
     "data": {
      "text/plain": [
       "{'apple': 'APPLE',\n",
       " 'ball': 'BALL',\n",
       " 'cat': 'CAT',\n",
       " 'dog': 'DOG',\n",
       " 'egg': 'EGG',\n",
       " 'fish': 'FISH',\n",
       " 'goat': 'GOAT',\n",
       " 'house': 'HOUSE'}"
      ]
     },
     "execution_count": 36,
     "metadata": {},
     "output_type": "execute_result"
    }
   ],
   "source": [
    "a=[\"apple\",\"ball\",\"cat\",\"dog\",\"egg\",\"fish\",\"goat\",\"house\"]\n",
    "d={i: i.upper() for i in a}\n",
    "d"
   ]
  },
  {
   "cell_type": "code",
   "execution_count": 40,
   "id": "272cda3a",
   "metadata": {},
   "outputs": [
    {
     "name": "stdout",
     "output_type": "stream",
     "text": [
      "2022-04-26 15:53:58.035749\n"
     ]
    }
   ],
   "source": [
    "#date and time\n",
    "import datetime\n",
    "x=datetime.datetime.now()\n",
    "print(x)"
   ]
  },
  {
   "cell_type": "code",
   "execution_count": 41,
   "id": "82a75c5b",
   "metadata": {},
   "outputs": [
    {
     "name": "stdout",
     "output_type": "stream",
     "text": [
      "2022\n",
      "Tue Apr 26 15:55:19 2022\n"
     ]
    }
   ],
   "source": [
    "import datetime\n",
    "x=datetime.datetime.now()\n",
    "\n",
    "print(x.year)\n",
    "print(x.strftime(\"%c\"))"
   ]
  },
  {
   "cell_type": "code",
   "execution_count": 43,
   "id": "a5592cd8",
   "metadata": {},
   "outputs": [
    {
     "name": "stdout",
     "output_type": "stream",
     "text": [
      "['apple']\n",
      "0:00:00\n"
     ]
    }
   ],
   "source": [
    "import datetime\n",
    "x=datetime.datetime.now()\n",
    "a=[\"apple\",\"ball\",\"cat\",\"dog\",\"egg\",\"fish\",\"goat\",\"house\"]\n",
    "b=[i for i in a if i[0]==\"a\"]\n",
    "print(b)\n",
    "y=datetime.datetime.now()\n",
    "print(y-x)"
   ]
  },
  {
   "cell_type": "code",
   "execution_count": null,
   "id": "22437c02",
   "metadata": {},
   "outputs": [],
   "source": []
  }
 ],
 "metadata": {
  "kernelspec": {
   "display_name": "Python 3 (ipykernel)",
   "language": "python",
   "name": "python3"
  },
  "language_info": {
   "codemirror_mode": {
    "name": "ipython",
    "version": 3
   },
   "file_extension": ".py",
   "mimetype": "text/x-python",
   "name": "python",
   "nbconvert_exporter": "python",
   "pygments_lexer": "ipython3",
   "version": "3.9.7"
  }
 },
 "nbformat": 4,
 "nbformat_minor": 5
}
