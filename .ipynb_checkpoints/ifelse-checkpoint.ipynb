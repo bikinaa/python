{
 "cells": [
  {
   "cell_type": "code",
   "execution_count": 1,
   "id": "092da18a",
   "metadata": {},
   "outputs": [],
   "source": [
    "# if <condition>:\n",
    "#     <operation>\n",
    "# elif<condition>\n",
    "#     <operation>\n",
    "# else<operation>\n"
   ]
  },
  {
   "cell_type": "code",
   "execution_count": 2,
   "id": "2bd3ba6a",
   "metadata": {},
   "outputs": [
    {
     "name": "stdout",
     "output_type": "stream",
     "text": [
      "hello world\n"
     ]
    }
   ],
   "source": [
    "if True:\n",
    "    print(\"hello world\")"
   ]
  },
  {
   "cell_type": "code",
   "execution_count": 3,
   "id": "a045c0a0",
   "metadata": {},
   "outputs": [
    {
     "name": "stdout",
     "output_type": "stream",
     "text": [
      "enter x=6\n",
      "the number is even number\n"
     ]
    }
   ],
   "source": [
    "x=int(input(\"enter x=\"))\n",
    "if x%2 ==0:\n",
    "    print(\"the number is even number\")\n",
    "else:\n",
    "    print(\"the number is odd\")"
   ]
  },
  {
   "cell_type": "code",
   "execution_count": 6,
   "id": "3fdbaa0e",
   "metadata": {},
   "outputs": [
    {
     "name": "stdout",
     "output_type": "stream",
     "text": [
      "False\n"
     ]
    }
   ],
   "source": [
    "print(11<11)"
   ]
  },
  {
   "cell_type": "code",
   "execution_count": 9,
   "id": "63d390e5",
   "metadata": {},
   "outputs": [
    {
     "name": "stdout",
     "output_type": "stream",
     "text": [
      "enter the value of x5\n",
      "enter the value of y6\n",
      "6 is greater\n"
     ]
    }
   ],
   "source": [
    "x= int(input(\"enter the value of x\"))\n",
    "y= int(input(\"enter the value of y\"))\n",
    "if x<y:\n",
    "    print(y,\"is greater\")\n",
    "elif y<x:\n",
    "    print(x,\"is greater\")\n",
    "else:\n",
    "    print(\"both are equal\")\n",
    "  "
   ]
  },
  {
   "cell_type": "code",
   "execution_count": null,
   "id": "cbba5582",
   "metadata": {},
   "outputs": [],
   "source": [
    "a=int(input(\"enter the value of a\"))\n",
    "b=int(input(\"enter the vale of b\"))\n",
    "o=input(\"enter the operator +,-,%\")\n",
    "\n",
    "if o==\"+\":\n",
    "    print(a+b)\n",
    "elif o==\"-\":\n",
    "    print(a-b)\n",
    "elif o==\"/\":\n",
    "    print(a/b)\n",
    "elif o==\"%\" :\n",
    "    print(a%b)\n",
    "else: \n",
    "    print(\"Invalid value\")"
   ]
  },
  {
   "cell_type": "code",
   "execution_count": null,
   "id": "1b909ad8",
   "metadata": {},
   "outputs": [],
   "source": [
    "# and &\n",
    "# print(True and True)\n",
    "# or /\n",
    "print(True or False)"
   ]
  },
  {
   "cell_type": "code",
   "execution_count": 3,
   "id": "727fd25e",
   "metadata": {},
   "outputs": [
    {
     "name": "stdout",
     "output_type": "stream",
     "text": [
      "enter the value of a2\n",
      "enter the vale of b4\n",
      "enter the operator +,-,%+\n",
      "6\n"
     ]
    }
   ],
   "source": [
    "a=int(input(\"enter the value of a\"))\n",
    "b=int(input(\"enter the vale of b\"))\n",
    "o=input(\"enter the operator +,-,%\")\n",
    "if o==\"+\":\n",
    "    print(a+b)\n",
    "elif o==\"-\":\n",
    "    print(a-b)\n",
    "elif (o==\"/\") & (b!=0): \n",
    "    print(a/b)\n",
    "elif (o==\"/\" and b==0):\n",
    "    print(\"the value of b cannot be zero\")\n",
    "elif o==\"%\" :\n",
    "    print(a%b)\n",
    "else: \n",
    "    print(\"Invalid value\")"
   ]
  },
  {
   "cell_type": "code",
   "execution_count": 1,
   "id": "6795fd53",
   "metadata": {},
   "outputs": [
    {
     "name": "stdout",
     "output_type": "stream",
     "text": [
      "enter per=61\n",
      "the grade is b\n"
     ]
    }
   ],
   "source": [
    "per = float(input(\"enter per=\"))\n",
    "if (per>60) or (per==60):\n",
    "    print(\"the grade is b\")"
   ]
  },
  {
   "cell_type": "code",
   "execution_count": 2,
   "id": "b27d60b5",
   "metadata": {},
   "outputs": [],
   "source": [
    "# #nested if\n",
    "# if <conditon>:\n",
    "#     if<condition>:\n",
    "#         <operation>\n",
    "#     elif<condition>:\n",
    "#         <operation>\n",
    "#     else<condition>:\n",
    "#         <operation>\n",
    "     \n",
    "    \n",
    "# else:\n",
    "#     <operations>"
   ]
  },
  {
   "cell_type": "code",
   "execution_count": 7,
   "id": "db19e239",
   "metadata": {},
   "outputs": [
    {
     "name": "stdout",
     "output_type": "stream",
     "text": [
      "enter the value of x3\n",
      "is +ve odd number\n"
     ]
    }
   ],
   "source": [
    "x= int(input(\"enter the value of x\"))\n",
    "if x>0:\n",
    "    if x%2== 0:\n",
    "        print(x,\"is +ve and even number\")\n",
    "    else:\n",
    "            print(x,\"is +ve odd number\")\n",
    "else:\n",
    "    print(x,\" is number is negative\")\n"
   ]
  },
  {
   "cell_type": "code",
   "execution_count": 10,
   "id": "cf6dab97",
   "metadata": {},
   "outputs": [
    {
     "name": "stdout",
     "output_type": "stream",
     "text": [
      "enter the value of a2\n",
      "enter the vale of b3\n",
      "enter the operator +,-,%%\n",
      "2\n"
     ]
    }
   ],
   "source": [
    "a=int(input(\"enter the value of a\"))\n",
    "b=int(input(\"enter the vale of b\"))\n",
    "o=input(\"enter the operator +,-,%\")\n",
    "\n",
    "if o==\"+\":\n",
    "    print(a+b)\n",
    "elif o==\"-\":\n",
    "    print(a-b)\n",
    "elif o==\"/\":\n",
    "    if b!=0:\n",
    "        print(a/b)\n",
    "elif o==\"%\" :\n",
    "    print(a%b)\n",
    "else: \n",
    "    print(\"Invalid value\")"
   ]
  },
  {
   "cell_type": "code",
   "execution_count": 3,
   "id": "95caf23a",
   "metadata": {},
   "outputs": [
    {
     "name": "stdout",
     "output_type": "stream",
     "text": [
      "enter the value of x-2\n",
      "-2 is a negative even number\n"
     ]
    }
   ],
   "source": [
    "x=int(input(\"enter the value of x\"))\n",
    "if x>0 and x%2==0:\n",
    "    print(x,\"is a positive even number\")\n",
    "elif x<0 and x%-2==0:\n",
    "    print(x,\"is a negative even number\")\n",
    "elif x<0 and x%-2!=0:\n",
    "    print(x,\"is a negative odd number\")\n",
    "else:\n",
    "    print(x,\"is a positive odd number)\")"
   ]
  },
  {
   "cell_type": "code",
   "execution_count": null,
   "id": "de1b2f90",
   "metadata": {},
   "outputs": [],
   "source": []
  },
  {
   "cell_type": "code",
   "execution_count": null,
   "id": "676e7a44",
   "metadata": {},
   "outputs": [],
   "source": []
  }
 ],
 "metadata": {
  "kernelspec": {
   "display_name": "Python 3 (ipykernel)",
   "language": "python",
   "name": "python3"
  },
  "language_info": {
   "codemirror_mode": {
    "name": "ipython",
    "version": 3
   },
   "file_extension": ".py",
   "mimetype": "text/x-python",
   "name": "python",
   "nbconvert_exporter": "python",
   "pygments_lexer": "ipython3",
   "version": "3.9.7"
  }
 },
 "nbformat": 4,
 "nbformat_minor": 5
}
