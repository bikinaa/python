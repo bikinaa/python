{
 "cells": [
  {
   "cell_type": "code",
   "execution_count": null,
   "id": "909df4ef",
   "metadata": {},
   "outputs": [],
   "source": [
    "def  hello():\n",
    "    print(\"hello world\")\n",
    "    \n",
    "    hello() #recursive function ie it calss itself and keeps running\n",
    "hello()"
   ]
  },
  {
   "cell_type": "code",
   "execution_count": 1,
   "id": "10b63635",
   "metadata": {},
   "outputs": [
    {
     "name": "stdout",
     "output_type": "stream",
     "text": [
      "(10, 11)\n"
     ]
    }
   ],
   "source": [
    "a=10,11\n",
    "print(a)"
   ]
  },
  {
   "cell_type": "code",
   "execution_count": 2,
   "id": "a0e1c6a8",
   "metadata": {},
   "outputs": [
    {
     "data": {
      "text/plain": [
       "(50, 100)"
      ]
     },
     "execution_count": 2,
     "metadata": {},
     "output_type": "execute_result"
    }
   ],
   "source": [
    "def cal():\n",
    "    l=10\n",
    "    b=5\n",
    "    h=2\n",
    "    a=l*b\n",
    "    v=a*h\n",
    "    return a,v\n",
    "cal()"
   ]
  },
  {
   "cell_type": "code",
   "execution_count": 4,
   "id": "6270a2e8",
   "metadata": {},
   "outputs": [
    {
     "name": "stdout",
     "output_type": "stream",
     "text": [
      "area is  50\n",
      "volume is 100\n"
     ]
    }
   ],
   "source": [
    "def cal():\n",
    "    l=10\n",
    "    b=5\n",
    "    h=2\n",
    "    a=l*b\n",
    "    v=a*h\n",
    "    return a,v\n",
    "area,volume=cal()\n",
    "print(\"area is \",area)\n",
    "print(\"volume is\",volume)"
   ]
  },
  {
   "cell_type": "code",
   "execution_count": 10,
   "id": "2b9ce932",
   "metadata": {},
   "outputs": [
    {
     "name": "stdout",
     "output_type": "stream",
     "text": [
      "enter the value of n6\n",
      "enter the value of x5\n",
      "enter the value of x8\n",
      "enter the value of x7\n",
      "enter the value of x5\n",
      "enter the value of x3\n",
      "enter the value of x9\n",
      "37\n"
     ]
    }
   ],
   "source": [
    "# wap to find the total of n number of value using recursion\n",
    "s=0\n",
    "n=int(input(\"enter the value of n\"))\n",
    "def summ():\n",
    "    global s\n",
    "    for i in range (n):\n",
    "        x=int(input(\"enter the value of x\"))\n",
    "        s=s+x\n",
    "summ()\n",
    "print(s)"
   ]
  },
  {
   "cell_type": "code",
   "execution_count": 12,
   "id": "790bd729",
   "metadata": {},
   "outputs": [
    {
     "name": "stdout",
     "output_type": "stream",
     "text": [
      "enter the value of r5\n",
      "78.53981633974483\n"
     ]
    }
   ],
   "source": [
    "#math function\n",
    "import math as m\n",
    "p=m.pi\n",
    "r=int(input(\"enter the value of r\"))\n",
    "a=m.pi*m.pow(r,2)\n",
    "print(a)"
   ]
  },
  {
   "cell_type": "code",
   "execution_count": 14,
   "id": "15f1963a",
   "metadata": {},
   "outputs": [
    {
     "name": "stdout",
     "output_type": "stream",
     "text": [
      "1.0\n",
      "6.123233995736766e-17\n",
      "1.633123935319537e+16\n"
     ]
    }
   ],
   "source": [
    "print(m.sin(m.pi/2))\n",
    "print(m.cos(m.pi/2))\n",
    "print(m.tan(m.pi/2))"
   ]
  },
  {
   "cell_type": "code",
   "execution_count": null,
   "id": "80ea338c",
   "metadata": {},
   "outputs": [],
   "source": []
  }
 ],
 "metadata": {
  "kernelspec": {
   "display_name": "Python 3 (ipykernel)",
   "language": "python",
   "name": "python3"
  },
  "language_info": {
   "codemirror_mode": {
    "name": "ipython",
    "version": 3
   },
   "file_extension": ".py",
   "mimetype": "text/x-python",
   "name": "python",
   "nbconvert_exporter": "python",
   "pygments_lexer": "ipython3",
   "version": "3.9.7"
  }
 },
 "nbformat": 4,
 "nbformat_minor": 5
}
