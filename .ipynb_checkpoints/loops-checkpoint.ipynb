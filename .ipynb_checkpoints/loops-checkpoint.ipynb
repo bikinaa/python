{
 "cells": [
  {
   "cell_type": "code",
   "execution_count": null,
   "id": "b6cccaaa",
   "metadata": {},
   "outputs": [],
   "source": [
    "# for loop\n",
    "# while loop"
   ]
  },
  {
   "cell_type": "code",
   "execution_count": null,
   "id": "5c440833",
   "metadata": {},
   "outputs": [],
   "source": [
    "# for(i=0;i<5:i++)"
   ]
  },
  {
   "cell_type": "code",
   "execution_count": null,
   "id": "89908c4f",
   "metadata": {},
   "outputs": [],
   "source": [
    "# range(5) 0,1,2,3,4\n",
    "# range(1,5) 1,2,3,4\n",
    "# range(1,10,2) 1,3,5,7,9 the last number is the increment ie.. the number is increassed by 2\n"
   ]
  },
  {
   "cell_type": "code",
   "execution_count": null,
   "id": "ecbc128d",
   "metadata": {},
   "outputs": [],
   "source": [
    "for i in range(1):\n",
    "    print(i,\"My name is bikina\")"
   ]
  },
  {
   "cell_type": "code",
   "execution_count": null,
   "id": "276a8026",
   "metadata": {},
   "outputs": [],
   "source": [
    "for i in range(1,10):\n",
    "    print(i,\"My name is bikina\")"
   ]
  },
  {
   "cell_type": "code",
   "execution_count": 3,
   "id": "17876bf1",
   "metadata": {},
   "outputs": [
    {
     "name": "stdout",
     "output_type": "stream",
     "text": [
      "1 My name is bikina\n",
      "3 My name is bikina\n",
      "5 My name is bikina\n",
      "7 My name is bikina\n",
      "9 My name is bikina\n"
     ]
    }
   ],
   "source": [
    "for i in range(1,10,2):\n",
    "    print(i,\"My name is bikina\")"
   ]
  },
  {
   "cell_type": "code",
   "execution_count": 2,
   "id": "3fd578ea",
   "metadata": {},
   "outputs": [
    {
     "name": "stdout",
     "output_type": "stream",
     "text": [
      "10 My name is bikina\n",
      "7 My name is bikina\n",
      "4 My name is bikina\n",
      "1 My name is bikina\n"
     ]
    }
   ],
   "source": [
    "for i in range(10,0,-3): \n",
    "    print(i,\"My name is bikina\")"
   ]
  },
  {
   "cell_type": "code",
   "execution_count": 1,
   "id": "6b73a1df",
   "metadata": {},
   "outputs": [
    {
     "name": "stdout",
     "output_type": "stream",
     "text": [
      "enter the value of n5\n",
      "5\n",
      "10\n",
      "15\n",
      "20\n",
      "25\n",
      "30\n",
      "35\n",
      "40\n",
      "45\n",
      "50\n"
     ]
    }
   ],
   "source": [
    "n= int(input(\"enter the value of n\"))\n",
    "for i in range(1,11):\n",
    "    print(i*n)"
   ]
  },
  {
   "cell_type": "code",
   "execution_count": 4,
   "id": "4ffce5c2",
   "metadata": {},
   "outputs": [
    {
     "name": "stdout",
     "output_type": "stream",
     "text": [
      "enter the value of n3\n",
      "3 * 1 = 3\n",
      "3 * 2 = 6\n",
      "3 * 3 = 9\n",
      "3 * 4 = 12\n",
      "3 * 5 = 15\n",
      "3 * 6 = 18\n",
      "3 * 7 = 21\n",
      "3 * 8 = 24\n",
      "3 * 9 = 27\n",
      "3 * 10 = 30\n"
     ]
    }
   ],
   "source": [
    "n= int(input(\"enter the value of n\"))\n",
    "for i in range(1,11):\n",
    "    print(n,\"*\",i,\"=\",i*n)"
   ]
  },
  {
   "cell_type": "code",
   "execution_count": 9,
   "id": "7a16960b",
   "metadata": {},
   "outputs": [
    {
     "name": "stdout",
     "output_type": "stream",
     "text": [
      "enter the value of n2\n",
      "enter the value of x=3\n",
      "3\n",
      "enter the value of x=5\n",
      "8\n"
     ]
    }
   ],
   "source": [
    "s=0\n",
    "n= int(input(\"enter the value of n\"))\n",
    "for i in range (n):\n",
    "    x=int(input(\"enter the value of x=\"))\n",
    "    s=s+x\n",
    "    \n",
    "    print(s)"
   ]
  },
  {
   "cell_type": "code",
   "execution_count": 8,
   "id": "dde395bb",
   "metadata": {},
   "outputs": [
    {
     "name": "stdout",
     "output_type": "stream",
     "text": [
      "enter n=5\n",
      "enter x=ram\n",
      "ram\n",
      "\n",
      "enter x=shyam\n",
      "ram\n",
      "shyam\n",
      "\n",
      "enter x=hari\n",
      "ram\n",
      "shyam\n",
      "hari\n",
      "\n",
      "enter x=sita\n",
      "ram\n",
      "shyam\n",
      "hari\n",
      "sita\n",
      "\n",
      "enter x=geeta\n",
      "ram\n",
      "shyam\n",
      "hari\n",
      "sita\n",
      "geeta\n",
      "\n"
     ]
    }
   ],
   "source": [
    "s=str()\n",
    "n= int(input(\"enter n=\"))\n",
    "for i in range (n):\n",
    "    x= input(\"enter x=\")\n",
    "    s=s+x+\"\\n\"\n",
    "   \n",
    "    \n",
    "    \n",
    "    print(s)"
   ]
  },
  {
   "cell_type": "code",
   "execution_count": 10,
   "id": "4a4d6302",
   "metadata": {},
   "outputs": [
    {
     "name": "stdout",
     "output_type": "stream",
     "text": [
      "enter n=2\n",
      "enter name=ram\n",
      "enter phone=854854\n",
      "ram phone\n",
      "\n",
      "enter name=shyam\n",
      "enter phone=865\n",
      "ram phone\n",
      "shyam phone\n",
      "\n"
     ]
    }
   ],
   "source": [
    "s=str()\n",
    "n= int(input(\"enter n=\"))\n",
    "for i in range (n):\n",
    "    name= input(\"enter name=\")\n",
    "    phone=input(\"enter phone=\")\n",
    "    s=s+name+\" \"+\"phone\"+\"\\n\"\n",
    "   \n",
    "    \n",
    "    \n",
    "    print(s)"
   ]
  },
  {
   "cell_type": "code",
   "execution_count": 12,
   "id": "45867a8b",
   "metadata": {},
   "outputs": [
    {
     "name": "stdout",
     "output_type": "stream",
     "text": [
      "enter n=2\n",
      "enter name=3\n",
      "enter phone=32\n",
      "enter name=23\n",
      "enter phone=23\n",
      "3 32\n",
      "23 23\n",
      "\n"
     ]
    }
   ],
   "source": [
    "s=str()\n",
    "n= int(input(\"enter n=\"))\n",
    "for i in range (n):\n",
    "    name= input(\"enter name=\")\n",
    "    phone=int(input(\"enter phone=\"))\n",
    "    s=s+name+\" \"+str(phone)+\"\\n\" #str(phone) is used because the program is in string and will contradict so its changed to string\n",
    "print(s)"
   ]
  },
  {
   "cell_type": "code",
   "execution_count": 13,
   "id": "6d4c7b89",
   "metadata": {},
   "outputs": [
    {
     "name": "stdout",
     "output_type": "stream",
     "text": [
      "enter the value of n=5\n",
      "120\n"
     ]
    }
   ],
   "source": [
    "#5!= 1*2*3*4\n",
    "fac=1\n",
    "n=int(input(\"enter the value of n=\"))\n",
    "for i in range(1,n+1):\n",
    "    fac=fac*i\n",
    "print(fac)"
   ]
  },
  {
   "cell_type": "code",
   "execution_count": 14,
   "id": "c9a9fb9a",
   "metadata": {},
   "outputs": [
    {
     "name": "stdout",
     "output_type": "stream",
     "text": [
      "enter the value of n=5\n",
      "1\n",
      "2\n",
      "6\n",
      "24\n",
      "120\n"
     ]
    }
   ],
   "source": [
    "fac=1\n",
    "n=int(input(\"enter the value of n=\"))\n",
    "for i in range(1,n+1):\n",
    "    fac=fac*i\n",
    "    print(fac)"
   ]
  },
  {
   "cell_type": "code",
   "execution_count": 15,
   "id": "fdb2255a",
   "metadata": {},
   "outputs": [
    {
     "name": "stdout",
     "output_type": "stream",
     "text": [
      "p\n",
      "y\n",
      "t\n",
      "h\n",
      "o\n",
      "n\n"
     ]
    }
   ],
   "source": [
    "a=\"python\"#each character acts as a sequence of characters\n",
    "for i in a:\n",
    "    print(i)"
   ]
  },
  {
   "cell_type": "code",
   "execution_count": 18,
   "id": "3c6533b1",
   "metadata": {},
   "outputs": [
    {
     "name": "stdout",
     "output_type": "stream",
     "text": [
      "H.e.l.l.o.W.o.r.l.d.i.a.m.P.y.t.h.o.n."
     ]
    }
   ],
   "source": [
    "a=\"Hello World iam Python\"\n",
    "for i in a:\n",
    "    if i !=\" \":\n",
    "        print(i,end=\".\")"
   ]
  },
  {
   "cell_type": "code",
   "execution_count": 21,
   "id": "ed0528b5",
   "metadata": {},
   "outputs": [
    {
     "name": "stdout",
     "output_type": "stream",
     "text": [
      "H\n",
      "e\n",
      "l\n",
      "l\n",
      "o\n",
      "W\n",
      "o\n",
      "r\n",
      "l\n",
      "d\n",
      "i\n",
      "a\n",
      "m\n",
      "P\n",
      "y\n",
      "t\n",
      "h\n",
      "o\n",
      "n\n"
     ]
    }
   ],
   "source": [
    "a=\"Hello World iam Python\"\n",
    "for i in a:\n",
    "    if i !=\" \":\n",
    "        print(i)"
   ]
  },
  {
   "cell_type": "code",
   "execution_count": 31,
   "id": "53ae86a0",
   "metadata": {},
   "outputs": [],
   "source": [
    "# Control statements\n",
    "# break\n",
    "# continue\n",
    "# pass"
   ]
  },
  {
   "cell_type": "code",
   "execution_count": 33,
   "id": "a88242a3",
   "metadata": {},
   "outputs": [
    {
     "name": "stdout",
     "output_type": "stream",
     "text": [
      "0\n",
      "1\n",
      "2\n",
      "3\n",
      "4\n"
     ]
    }
   ],
   "source": [
    "#break statement\n",
    "for i in range(10):\n",
    "    if i==5:\n",
    "        break\n",
    "    else:\n",
    "            print(i)"
   ]
  },
  {
   "cell_type": "code",
   "execution_count": 37,
   "id": "39695cf0",
   "metadata": {},
   "outputs": [
    {
     "name": "stdout",
     "output_type": "stream",
     "text": [
      "012346789"
     ]
    }
   ],
   "source": [
    "#continue statement\n",
    "for i in range(10):\n",
    "    if i==5:\n",
    "        continue\n",
    "    \n",
    "    print(i,end=\"\")"
   ]
  },
  {
   "cell_type": "code",
   "execution_count": 1,
   "id": "7cb21076",
   "metadata": {},
   "outputs": [
    {
     "name": "stdout",
     "output_type": "stream",
     "text": [
      "HelloWorldiamPython"
     ]
    }
   ],
   "source": [
    "a=\"Hello World iam Python\"\n",
    "for i in a:\n",
    "    if i ==\" \":\n",
    "        continue\n",
    "        \n",
    "    print(i,end=\"\")"
   ]
  },
  {
   "cell_type": "code",
   "execution_count": null,
   "id": "1a281f26",
   "metadata": {},
   "outputs": [],
   "source": []
  }
 ],
 "metadata": {
  "kernelspec": {
   "display_name": "Python 3 (ipykernel)",
   "language": "python",
   "name": "python3"
  },
  "language_info": {
   "codemirror_mode": {
    "name": "ipython",
    "version": 3
   },
   "file_extension": ".py",
   "mimetype": "text/x-python",
   "name": "python",
   "nbconvert_exporter": "python",
   "pygments_lexer": "ipython3",
   "version": "3.9.7"
  }
 },
 "nbformat": 4,
 "nbformat_minor": 5
}
