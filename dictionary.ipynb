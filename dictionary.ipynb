{
 "cells": [
  {
   "cell_type": "code",
   "execution_count": 1,
   "id": "dc8bc396",
   "metadata": {},
   "outputs": [],
   "source": [
    "# Dictionary\n",
    "# Indexed\n",
    "# ordered\n",
    "# multiple data r duplicate data\n",
    "# mutable"
   ]
  },
  {
   "cell_type": "code",
   "execution_count": 3,
   "id": "acaaf083",
   "metadata": {},
   "outputs": [
    {
     "name": "stdout",
     "output_type": "stream",
     "text": [
      "{'a': 'apple', 'b': 'ball', 'c': 'cat'}\n",
      "<class 'dict'>\n"
     ]
    }
   ],
   "source": [
    "# a={<key>:<value>,<key>:<value>}\n",
    "a={'a':\"apple\",'b':\"ball\",'c':'cat'}\n",
    "print(a)\n",
    "print(type(a))"
   ]
  },
  {
   "cell_type": "code",
   "execution_count": 5,
   "id": "48c86180",
   "metadata": {},
   "outputs": [
    {
     "name": "stdout",
     "output_type": "stream",
     "text": [
      "ball\n"
     ]
    }
   ],
   "source": [
    "print(a['b'])"
   ]
  },
  {
   "cell_type": "code",
   "execution_count": 6,
   "id": "cba12260",
   "metadata": {},
   "outputs": [
    {
     "name": "stdout",
     "output_type": "stream",
     "text": [
      "3\n"
     ]
    }
   ],
   "source": [
    "a={'a':\"apple\",'b':\"ball\",'c':'cat'}\n",
    "print(len(a))"
   ]
  },
  {
   "cell_type": "code",
   "execution_count": 7,
   "id": "f45b85aa",
   "metadata": {},
   "outputs": [
    {
     "name": "stdout",
     "output_type": "stream",
     "text": [
      "{'a': 'apple', 'b': 'ball', 'c': 'cat', 'd': 'dog'}\n"
     ]
    }
   ],
   "source": [
    "a={'a':\"apple\",'b':\"ball\",'c':'cat'}\n",
    "a['d']=\"dog\"\n",
    "print(a)"
   ]
  },
  {
   "cell_type": "code",
   "execution_count": 10,
   "id": "74d6657d",
   "metadata": {},
   "outputs": [
    {
     "data": {
      "text/plain": [
       "{'a': 'apple', 'b': 'ball', 'c': 'cat'}"
      ]
     },
     "execution_count": 10,
     "metadata": {},
     "output_type": "execute_result"
    }
   ],
   "source": [
    "a={}\n",
    "a['a']=\"apple\"\n",
    "a['b']=\"ball\"\n",
    "a['c']=\"cat\"\n",
    "a"
   ]
  },
  {
   "cell_type": "code",
   "execution_count": 13,
   "id": "8951052d",
   "metadata": {},
   "outputs": [
    {
     "name": "stdout",
     "output_type": "stream",
     "text": [
      "enter the number2\n",
      "enter a namebikina\n",
      "enter a number21\n",
      "enter a nameram\n",
      "enter a number2\n",
      "{'bikina': 21, 'ram': 2}\n"
     ]
    }
   ],
   "source": [
    "data={}\n",
    "n=int(input(\"enter the number\"))\n",
    "for i in range (n):\n",
    "    name=input(\"enter a name\")\n",
    "    phone=int(input(\"enter a number\"))\n",
    "    data[name]=phone\n",
    "print(data)"
   ]
  },
  {
   "cell_type": "code",
   "execution_count": 14,
   "id": "3138882e",
   "metadata": {},
   "outputs": [
    {
     "name": "stdout",
     "output_type": "stream",
     "text": [
      "bikina\n",
      "ram\n"
     ]
    }
   ],
   "source": [
    "a={'bikina': 21, 'ram': 2}\n",
    "for i in a:   #for printing key\n",
    "    print(i)"
   ]
  },
  {
   "cell_type": "code",
   "execution_count": 15,
   "id": "35e090fb",
   "metadata": {},
   "outputs": [
    {
     "name": "stdout",
     "output_type": "stream",
     "text": [
      "21\n",
      "2\n"
     ]
    }
   ],
   "source": [
    "a={'bikina': 21, 'ram': 2}\n",
    "for i in a.values():   #for printing valuesa={'bikina': 21, 'ram': 2}\n",
    "for i in a:   #for printing key\n",
    "    print(i)"
   ]
  },
  {
   "cell_type": "code",
   "execution_count": 18,
   "id": "bcc2a790",
   "metadata": {},
   "outputs": [
    {
     "name": "stdout",
     "output_type": "stream",
     "text": [
      "('bikina', 21)\n",
      "('ram', 2)\n"
     ]
    }
   ],
   "source": [
    "a={'bikina': 21, 'ram': 2}\n",
    "for i in a.items():   #for printing values and keys   \n",
    "    print(i)"
   ]
  },
  {
   "cell_type": "code",
   "execution_count": 24,
   "id": "365db288",
   "metadata": {},
   "outputs": [
    {
     "name": "stdout",
     "output_type": "stream",
     "text": [
      "{'bikina': 21}\n"
     ]
    }
   ],
   "source": [
    "a={'bikina': 21, 'ram': 2}\n",
    "del a['ram'] #both value and key gets deleted\n",
    "print(a)"
   ]
  },
  {
   "cell_type": "code",
   "execution_count": 22,
   "id": "004456a5",
   "metadata": {},
   "outputs": [
    {
     "name": "stdout",
     "output_type": "stream",
     "text": [
      "{'bikina': 21}\n",
      "2\n"
     ]
    }
   ],
   "source": [
    "a={'bikina': 21, 'ram': 2}\n",
    "b=a.pop('ram')\n",
    "print(a)\n",
    "print(b)"
   ]
  },
  {
   "cell_type": "code",
   "execution_count": 25,
   "id": "39dd5dc4",
   "metadata": {},
   "outputs": [
    {
     "name": "stdout",
     "output_type": "stream",
     "text": [
      "{'bikina': [21, 32], 'ram': [2, 5]}\n"
     ]
    }
   ],
   "source": [
    "#list inside dictionary\n",
    "a={'bikina': [21,32], 'ram': [2,5]} #multpile values\n",
    "print(a)\n"
   ]
  },
  {
   "cell_type": "code",
   "execution_count": 27,
   "id": "242865fe",
   "metadata": {},
   "outputs": [
    {
     "name": "stdout",
     "output_type": "stream",
     "text": [
      "enter  a number1\n",
      "enter namebiki\n",
      "enter ntc number43343\n",
      "enter ncell number3232\n",
      "{'biki': [43343, 3232]}\n"
     ]
    }
   ],
   "source": [
    "#a={'bikina': 21, 'ram': 2}\n",
    "info ={}\n",
    "n=int(input(\"enter  a number\"))\n",
    "for i in range (n):\n",
    "    name=input(\"enter name\")\n",
    "    ntc_phone=int(input(\"enter ntc number\"))\n",
    "    ncell_phone=int(input(\"enter ncell number\"))\n",
    "    info[name]=[ntc_phone,ncell_phone]\n",
    "print(info)\n"
   ]
  },
  {
   "cell_type": "code",
   "execution_count": 30,
   "id": "cf737a28",
   "metadata": {},
   "outputs": [
    {
     "data": {
      "text/plain": [
       "987867544"
      ]
     },
     "execution_count": 30,
     "metadata": {},
     "output_type": "execute_result"
    }
   ],
   "source": [
    "a={'bikina': [986091188,98323242], 'ram': [9862707794,987867544]}\n",
    "a['ram'][1] #prints the value of the index in which the number is in"
   ]
  },
  {
   "cell_type": "code",
   "execution_count": 32,
   "id": "564d95a4",
   "metadata": {},
   "outputs": [
    {
     "data": {
      "text/plain": [
       "{'bikina': [986091188, 98323242], 'ram': [9862707794, 987867544, 9856543443]}"
      ]
     },
     "execution_count": 32,
     "metadata": {},
     "output_type": "execute_result"
    }
   ],
   "source": [
    "a={'bikina': [986091188,98323242], 'ram': [9862707794,987867544]}\n",
    "a['ram'].append(9856543443)\n",
    "a"
   ]
  },
  {
   "cell_type": "code",
   "execution_count": 33,
   "id": "c0026b6f",
   "metadata": {},
   "outputs": [
    {
     "data": {
      "text/plain": [
       "{'bikina': [986091188, 98323242],\n",
       " 'ram': [9862707794, 987867544, 9856543443],\n",
       " 'hari': [987656534, 987654343]}"
      ]
     },
     "execution_count": 33,
     "metadata": {},
     "output_type": "execute_result"
    }
   ],
   "source": [
    "#for placing totally new value in a\n",
    "a['hari']=[987656534,987654343]\n",
    "a"
   ]
  },
  {
   "cell_type": "code",
   "execution_count": 34,
   "id": "b2a4275f",
   "metadata": {},
   "outputs": [
    {
     "data": {
      "text/plain": [
       "{'name': ['ram', 'shyam'],\n",
       " 'NTC': [9878675645, 798675645],\n",
       " 'NCELL': [98765543443, 8574635242]}"
      ]
     },
     "execution_count": 34,
     "metadata": {},
     "output_type": "execute_result"
    }
   ],
   "source": [
    "a={'name':[\"ram\",\"shyam\"],'NTC':[9878675645,798675645],'NCELL':[98765543443,8574635242]}\n"
   ]
  },
  {
   "cell_type": "code",
   "execution_count": 37,
   "id": "17d706b0",
   "metadata": {},
   "outputs": [
    {
     "name": "stdout",
     "output_type": "stream",
     "text": [
      "enter  a number2\n",
      "enter namebijidnd\n",
      "enter ntc number987654\n",
      "enter ncell number97867564\n",
      "enter namebggh\n",
      "enter ntc number8675\n",
      "enter ncell number6545343\n",
      "{'Name': ['bijidnd', 'bggh'], 'NTC': [987654, 8675], 'NCELL': [97867564, 6545343]}\n"
     ]
    }
   ],
   "source": [
    "info ={'Name':[],'NTC':[],'NCELL':[]}\n",
    "n=int(input(\"enter  a number\"))\n",
    "for i in range (n):\n",
    "    name=input(\"enter name\")\n",
    "    ntc_phone=int(input(\"enter ntc number\"))\n",
    "    ncell_phone=int(input(\"enter ncell number\"))\n",
    "    info[\"Name\"].append(name)\n",
    "    info[\"NTC\"].append(ntc_phone)\n",
    "    info[\"NCELL\"].append(ncell_phone)\n",
    "    \n",
    "print(info)\n"
   ]
  },
  {
   "cell_type": "code",
   "execution_count": 42,
   "id": "78f85559",
   "metadata": {},
   "outputs": [
    {
     "name": "stdout",
     "output_type": "stream",
     "text": [
      "{'name': 'ram', 'age': 43, 'add': 'kathmandu'}\n"
     ]
    }
   ],
   "source": [
    "info=[{'name':'ram','age':43,'add':'kathmandu'},\n",
    "     {'name':'shyam','age':32,'add':'bhaktapur'},\n",
    "     {'name':'hari','age':23,'add':'lalitpur'}]\n",
    "print(info[0])"
   ]
  },
  {
   "cell_type": "code",
   "execution_count": 45,
   "id": "379de98e",
   "metadata": {},
   "outputs": [
    {
     "data": {
      "text/plain": [
       "[{'name': 'hari bahadur', 'age': 43, 'add': 'kathmandu'},\n",
       " {'name': 'shyam', 'age': 32, 'add': 'bhaktapur'},\n",
       " {'name': 'hari', 'age': 23, 'add': 'lalitpur'}]"
      ]
     },
     "execution_count": 45,
     "metadata": {},
     "output_type": "execute_result"
    }
   ],
   "source": [
    "info[0]['name']=\"hari bahadur\"\n",
    "info"
   ]
  },
  {
   "cell_type": "code",
   "execution_count": 46,
   "id": "96b44e51",
   "metadata": {},
   "outputs": [
    {
     "name": "stdout",
     "output_type": "stream",
     "text": [
      "enter the value of n2\n",
      "enter namebikina\n",
      "enter age25\n",
      "enter addressggaushsala\n",
      "enter namedipak\n",
      "enter age30\n",
      "enter addressbhaktapur\n",
      "[{'name': 'bikina', 'age': 25, 'add': 'ggaushsala'}, {'name': 'dipak', 'age': 30, 'add': 'bhaktapur'}]\n"
     ]
    }
   ],
   "source": [
    "info=[]\n",
    "n=int(input(\"enter the value of n\"))\n",
    "for i in range(n):\n",
    "    name=input(\"enter name\")\n",
    "    age=int(input(\"enter age\"))\n",
    "    add=input(\"enter address\")\n",
    "    data={'name':name,'age':age,'add':add}\n",
    "    info.append(data)\n",
    "print(info)"
   ]
  },
  {
   "cell_type": "code",
   "execution_count": 3,
   "id": "b63f585b",
   "metadata": {},
   "outputs": [
    {
     "name": "stdout",
     "output_type": "stream",
     "text": [
      "enter product namecoke\n",
      "enter quantity2\n"
     ]
    }
   ],
   "source": [
    "data={'coke':100,'pizza':150,'momo':100}\n",
    "\n",
    "    \n",
    "product=input(\"enter product name\")\n",
    "price=data[product]\n",
    "quantity=int(input(\"enter quantity\"))\n",
    "total=price*quantity\n"
   ]
  },
  {
   "cell_type": "markdown",
   "id": "26cf5cd6",
   "metadata": {},
   "source": [
    "### "
   ]
  },
  {
   "cell_type": "code",
   "execution_count": 4,
   "id": "155ac1b2",
   "metadata": {},
   "outputs": [
    {
     "name": "stdout",
     "output_type": "stream",
     "text": [
      "{1456: {'name': 'hari bahadur', 'age': 43, 'add': 'kathmandu'}, 2123: {'name': 'shyam', 'age': 32, 'add': 'bhaktapur'}, 3212: {'name': 'hari', 'age': 23, 'add': 'lalitpur'}}\n"
     ]
    }
   ],
   "source": [
    "#dictionary inside dictionary\n",
    "a={1456:{'name': 'hari bahadur', 'age': 43, 'add': 'kathmandu'},\n",
    "   2123:{'name': 'shyam', 'age': 32, 'add': 'bhaktapur'},\n",
    "   3212:{'name': 'hari', 'age': 23, 'add': 'lalitpur'}}\n",
    "print(a)"
   ]
  },
  {
   "cell_type": "code",
   "execution_count": 5,
   "id": "10738672",
   "metadata": {},
   "outputs": [
    {
     "name": "stdout",
     "output_type": "stream",
     "text": [
      "{'name': 'hari bahadur', 'age': 43, 'add': 'kathmandu'}\n"
     ]
    }
   ],
   "source": [
    "print(a[1456])"
   ]
  },
  {
   "cell_type": "code",
   "execution_count": 7,
   "id": "746cb094",
   "metadata": {},
   "outputs": [
    {
     "name": "stdout",
     "output_type": "stream",
     "text": [
      "{'name': 'sikkum', 'age': 23, 'add': 'gaushala'}\n"
     ]
    },
    {
     "data": {
      "text/plain": [
       "{1456: {'name': 'hari bahadur', 'age': 43, 'add': 'kathmandu'},\n",
       " 2123: {'name': 'shyam', 'age': 32, 'add': 'bhaktapur'},\n",
       " 3212: {'name': 'hari', 'age': 23, 'add': 'lalitpur'},\n",
       " 4321: {'name': 'sikkum', 'age': 23, 'add': 'gaushala'}}"
      ]
     },
     "execution_count": 7,
     "metadata": {},
     "output_type": "execute_result"
    }
   ],
   "source": [
    "a[4321]={'name':'sikkum','age':23,'add':'gaushala'}\n",
    "print(a[4321])\n",
    "a"
   ]
  },
  {
   "cell_type": "code",
   "execution_count": 8,
   "id": "337f30f2",
   "metadata": {},
   "outputs": [
    {
     "data": {
      "text/plain": [
       "{1456: {'name': 'hari bahadur', 'age': 43, 'add': 'kathmandu'},\n",
       " 2123: {'name': 'shyam', 'age': 32, 'add': 'bhaktapur'},\n",
       " 3212: {'name': 'hari', 'age': 23, 'add': 'lalitpur'}}"
      ]
     },
     "execution_count": 8,
     "metadata": {},
     "output_type": "execute_result"
    }
   ],
   "source": [
    "del a[4321]\n",
    "a"
   ]
  },
  {
   "cell_type": "code",
   "execution_count": null,
   "id": "abd8a9cc",
   "metadata": {},
   "outputs": [],
   "source": [
    "#wap to create dictionary inside dictionary\n",
    "\n",
    "a={}\n",
    "b={}\n",
    "n=int(input(\"enter a number\"))\n",
    "for i in range (n):\n",
    "    name=input(\"enter name\")\n",
    "    age=int(input(\"enter age\"))\n",
    "    add=input(\"enter add\")\n",
    "    a[name]=age\n",
    "    b.append(a)\n",
    "    print(b)"
   ]
  },
  {
   "cell_type": "code",
   "execution_count": null,
   "id": "32646102",
   "metadata": {},
   "outputs": [],
   "source": []
  },
  {
   "cell_type": "code",
   "execution_count": null,
   "id": "3cd680a6",
   "metadata": {},
   "outputs": [],
   "source": []
  }
 ],
 "metadata": {
  "kernelspec": {
   "display_name": "Python 3 (ipykernel)",
   "language": "python",
   "name": "python3"
  },
  "language_info": {
   "codemirror_mode": {
    "name": "ipython",
    "version": 3
   },
   "file_extension": ".py",
   "mimetype": "text/x-python",
   "name": "python",
   "nbconvert_exporter": "python",
   "pygments_lexer": "ipython3",
   "version": "3.9.7"
  }
 },
 "nbformat": 4,
 "nbformat_minor": 5
}
