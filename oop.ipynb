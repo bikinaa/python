{
 "cells": [
  {
   "cell_type": "code",
   "execution_count": 1,
   "id": "b7781c2d",
   "metadata": {},
   "outputs": [],
   "source": [
    "# class <class_name>\n",
    "# <opertions>\n",
    "\n",
    "# obj=<class_name>()"
   ]
  },
  {
   "cell_type": "code",
   "execution_count": 4,
   "id": "7ab7c19a",
   "metadata": {},
   "outputs": [
    {
     "name": "stdout",
     "output_type": "stream",
     "text": [
      "Hello world\n"
     ]
    }
   ],
   "source": [
    "class hello: #class\n",
    "    print('Hello world')\n",
    "    \n",
    "obj= hello() #object\n",
    "\n"
   ]
  },
  {
   "cell_type": "code",
   "execution_count": 10,
   "id": "48a48eb2",
   "metadata": {},
   "outputs": [
    {
     "name": "stdout",
     "output_type": "stream",
     "text": [
      "Hello World\n"
     ]
    }
   ],
   "source": [
    "class Hello:\n",
    "    def Hello(self):\n",
    "        print(\"Hello World\")\n",
    "obj = Hello()\n",
    "obj.Hello()"
   ]
  },
  {
   "cell_type": "code",
   "execution_count": 11,
   "id": "05978f12",
   "metadata": {},
   "outputs": [
    {
     "name": "stdout",
     "output_type": "stream",
     "text": [
      "Hello World\n"
     ]
    }
   ],
   "source": [
    "class Hello:\n",
    "    @staticmethod\n",
    "    def Hello():\n",
    "        print(\"Hello World\")\n",
    "obj = Hello()\n",
    "obj.Hello()"
   ]
  },
  {
   "cell_type": "code",
   "execution_count": 15,
   "id": "19a9b103",
   "metadata": {},
   "outputs": [
    {
     "name": "stdout",
     "output_type": "stream",
     "text": [
      "20\n"
     ]
    }
   ],
   "source": [
    "class Area:\n",
    "    @staticmethod\n",
    "    def area(l,b):\n",
    "        print(l*b)\n",
    "obj=Area()\n",
    "obj.area(5,4)"
   ]
  },
  {
   "cell_type": "code",
   "execution_count": 16,
   "id": "44a88ccc",
   "metadata": {},
   "outputs": [
    {
     "name": "stdout",
     "output_type": "stream",
     "text": [
      "20\n"
     ]
    }
   ],
   "source": [
    "class Area:\n",
    "   \n",
    "    def area(self,l,b):\n",
    "        print(l*b)\n",
    "obj=Area()\n",
    "obj.area(5,4)"
   ]
  },
  {
   "cell_type": "code",
   "execution_count": 17,
   "id": "36bbae0f",
   "metadata": {},
   "outputs": [
    {
     "name": "stdout",
     "output_type": "stream",
     "text": [
      "20\n",
      "60\n"
     ]
    }
   ],
   "source": [
    "class Cal:\n",
    "   \n",
    "    def area(self,l,b):\n",
    "        print(l*b)\n",
    "    def volume(self,l,b,h):\n",
    "        print(l*b*h)\n",
    "    \n",
    "obj=Cal()\n",
    "obj.area(5,4)\n",
    "obj.volume(3,4,5)"
   ]
  },
  {
   "cell_type": "code",
   "execution_count": 23,
   "id": "f467927c",
   "metadata": {},
   "outputs": [
    {
     "name": "stdout",
     "output_type": "stream",
     "text": [
      "50\n",
      "250\n"
     ]
    }
   ],
   "source": [
    "class  Cal:\n",
    "    def __init__(self,l,b,h):\n",
    "        self.l=l\n",
    "        self.b=b\n",
    "        self.h=h\n",
    "    \n",
    "    def area(self):\n",
    "        print(self.l*self.b)\n",
    "    def volume(self):\n",
    "        print(self.l*self.b*self.h)\n",
    "obj=Cal(10,5,5)\n",
    "obj.area()\n",
    "obj.volume()"
   ]
  },
  {
   "cell_type": "code",
   "execution_count": 24,
   "id": "e963f915",
   "metadata": {},
   "outputs": [
    {
     "name": "stdout",
     "output_type": "stream",
     "text": [
      "enter the value of l4\n",
      "enter the value of b5\n",
      "enter the value of h6\n",
      "20\n",
      "120\n"
     ]
    }
   ],
   "source": [
    "class  Cal:\n",
    "    def __init__(self):\n",
    "        self.l=int(input(\"enter the value of l\"))\n",
    "        self.b=int(input(\"enter the value of b\"))\n",
    "        self.h=int(input(\"enter the value of h\"))\n",
    "    \n",
    "    def area(self):\n",
    "        print(self.l*self.b)\n",
    "    def volume(self):\n",
    "        print(self.l*self.b*self.h)\n",
    "obj=Cal()\n",
    "obj.area()\n",
    "obj.volume()"
   ]
  },
  {
   "cell_type": "code",
   "execution_count": 25,
   "id": "6575e115",
   "metadata": {},
   "outputs": [
    {
     "name": "stdout",
     "output_type": "stream",
     "text": [
      "50\n",
      "250\n",
      "165\n",
      "3300\n"
     ]
    }
   ],
   "source": [
    "class  Cal:\n",
    "    def __init__(self,l,b,h):\n",
    "        self.l=l\n",
    "        self.b=b\n",
    "        self.h=h\n",
    "    \n",
    "    def area(self):\n",
    "        print(self.l*self.b)\n",
    "    def volume(self):\n",
    "        print(self.l*self.b*self.h)\n",
    "obj=Cal(10,5,5)\n",
    "obj.area()\n",
    "obj.volume()\n",
    "\n",
    "obj1=Cal(11,15,20)\n",
    "obj1.area()\n",
    "obj1.volume()"
   ]
  },
  {
   "cell_type": "code",
   "execution_count": 30,
   "id": "5e7c300a",
   "metadata": {},
   "outputs": [
    {
     "name": "stdout",
     "output_type": "stream",
     "text": [
      "50\n",
      "100\n"
     ]
    }
   ],
   "source": [
    "class Area:\n",
    "    def __init__(self,l,b):\n",
    "        self.l=l\n",
    "        self.b=b\n",
    "    def area(self):\n",
    "        a=self.l*self.b\n",
    "        print(a)\n",
    "class volume:\n",
    "    def __init__(self,l,b,h):\n",
    "        self.l=l\n",
    "        self.b=b\n",
    "        self.h=h\n",
    "    def volume(self):\n",
    "        \n",
    "        v=self.l*self.b*self.h\n",
    "        print(v)\n",
    "        \n",
    "obj1=Area(10,5)\n",
    "obj1.area()\n",
    "\n",
    "obj2=volume(10,5,2)\n",
    "obj2.volume()"
   ]
  },
  {
   "cell_type": "code",
   "execution_count": null,
   "id": "9422c8e6",
   "metadata": {},
   "outputs": [],
   "source": [
    "# Wap to make a data entry application using oop.\n",
    "# wap to read and write data in using csv and pandas using oop"
   ]
  },
  {
   "cell_type": "code",
   "execution_count": 12,
   "id": "92dcf3e1",
   "metadata": {},
   "outputs": [
    {
     "name": "stdout",
     "output_type": "stream",
     "text": [
      "ram\n",
      "34\n",
      "<class '__main__.Information'>\n",
      "ram\n",
      "34\n",
      "ram\n",
      "34\n",
      "ram\n"
     ]
    }
   ],
   "source": [
    "class Information:\n",
    "    def __init__(self,name,age,address):\n",
    "        self.name=name\n",
    "        self.age=age\n",
    "        self.address=address\n",
    "        \n",
    "    def hello(self):\n",
    "        return self.name\n",
    "    \n",
    "    def __str__(self):\n",
    "        return f\"{self.name}\\n{self.age}\"\n",
    "    \n",
    "    \n",
    "obj=Information(\"ram\",34,\"lalitpur\")\n",
    "print(obj)\n",
    "print(type(obj))\n",
    "print(obj.__str__())\n",
    "print(str(obj)) #can be called through this as well\n",
    "print(obj.hello())"
   ]
  },
  {
   "cell_type": "code",
   "execution_count": 7,
   "id": "0608541f",
   "metadata": {},
   "outputs": [
    {
     "name": "stdout",
     "output_type": "stream",
     "text": [
      "<_io.TextIOWrapper name='data.txt' mode='r' encoding='cp1252'>\n"
     ]
    }
   ],
   "source": [
    "b=open('data.txt','r')\n",
    "print(b)\n",
    "b.close()"
   ]
  },
  {
   "cell_type": "code",
   "execution_count": 23,
   "id": "8bb49720",
   "metadata": {},
   "outputs": [
    {
     "name": "stdout",
     "output_type": "stream",
     "text": [
      "48\n"
     ]
    }
   ],
   "source": [
    "#operator overloading\n",
    "class point:\n",
    "    def __init__(self,x,y):\n",
    "        self.x=x\n",
    "        self.y=y\n",
    "        \n",
    "    def __str__(self):\n",
    "        return f\"{self.x}{self.y}\"\n",
    "    \n",
    "    def __add__(self,other):\n",
    "        x=self.x+other.x\n",
    "        y=self.y+other.y\n",
    "        return point(x,y)\n",
    "p1=point(2,3)\n",
    "p2=point(2,5)\n",
    "print(p1+p2)"
   ]
  },
  {
   "cell_type": "code",
   "execution_count": 29,
   "id": "3c1d8fc8",
   "metadata": {},
   "outputs": [
    {
     "name": "stdout",
     "output_type": "stream",
     "text": [
      "this is init function 1000\n",
      "this is init function 2500\n",
      "this is init function 5000\n",
      "this is add function 3500\n",
      "this is init function 3500\n",
      "this is add function 8500\n",
      "this is init function 8500\n",
      "this is str function 8500\n",
      "8500\n"
     ]
    }
   ],
   "source": [
    "class Ecommerce:    #for practise and better knowledge\n",
    "    def __init__(self,price):\n",
    "        self.price=price\n",
    "        print(\"this is init function\",self.price)\n",
    "    def __str__(self):\n",
    "        print(\"this is str function\",self.price)\n",
    "        return str(self.price)\n",
    "    \n",
    "    \n",
    "    def __add__(self,other):\n",
    "        s=self.price+other.price\n",
    "        print(\"this is add function\",s)\n",
    "        return Ecommerce(s)\n",
    "        \n",
    "p1=Ecommerce(1000)\n",
    "p2=Ecommerce(2500)\n",
    "p3=Ecommerce(5000)\n",
    "\n",
    "\n",
    "print(p1+p2+p3)"
   ]
  },
  {
   "cell_type": "code",
   "execution_count": 35,
   "id": "9c5305eb",
   "metadata": {},
   "outputs": [
    {
     "ename": "SyntaxError",
     "evalue": "invalid syntax (Temp/ipykernel_1184/1606499187.py, line 16)",
     "output_type": "error",
     "traceback": [
      "\u001b[1;36m  File \u001b[1;32m\"C:\\Users\\Asus\\AppData\\Local\\Temp/ipykernel_1184/1606499187.py\"\u001b[1;36m, line \u001b[1;32m16\u001b[0m\n\u001b[1;33m    for i in range n:\u001b[0m\n\u001b[1;37m                   ^\u001b[0m\n\u001b[1;31mSyntaxError\u001b[0m\u001b[1;31m:\u001b[0m invalid syntax\n"
     ]
    }
   ],
   "source": [
    "class Ecommerce:    #for practise and better knowledge\n",
    "    def __init__(self,price):\n",
    "        self.price=price\n",
    "        print(\"this is init function\",self.price)\n",
    "    def __str__(self):\n",
    "        print(\"this is str function\",self.price)\n",
    "        return str(self.price)\n",
    "    \n",
    "    \n",
    "    def __add__(self,other):\n",
    "        s=self.price+other.price\n",
    "        print(\"this is add function\",s)\n",
    "        return Ecommerce(s)\n",
    "    \n",
    "\n",
    "   \n",
    "\n",
    "  "
   ]
  },
  {
   "cell_type": "code",
   "execution_count": null,
   "id": "aacc00c6",
   "metadata": {},
   "outputs": [],
   "source": []
  }
 ],
 "metadata": {
  "kernelspec": {
   "display_name": "Python 3 (ipykernel)",
   "language": "python",
   "name": "python3"
  },
  "language_info": {
   "codemirror_mode": {
    "name": "ipython",
    "version": 3
   },
   "file_extension": ".py",
   "mimetype": "text/x-python",
   "name": "python",
   "nbconvert_exporter": "python",
   "pygments_lexer": "ipython3",
   "version": "3.9.7"
  }
 },
 "nbformat": 4,
 "nbformat_minor": 5
}
