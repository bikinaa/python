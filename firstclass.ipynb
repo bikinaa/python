{
 "cells": [
  {
   "cell_type": "code",
   "execution_count": 1,
   "id": "f200396a",
   "metadata": {},
   "outputs": [
    {
     "name": "stdout",
     "output_type": "stream",
     "text": [
      "10\n",
      "15\n",
      "20\n"
     ]
    }
   ],
   "source": [
    "a=10\n",
    "b=15\n",
    "c=20\n",
    "print(a)\n",
    "print(b)\n",
    "print(c)"
   ]
  },
  {
   "cell_type": "code",
   "execution_count": 2,
   "id": "3a100cd7",
   "metadata": {},
   "outputs": [
    {
     "name": "stdout",
     "output_type": "stream",
     "text": [
      "40\n"
     ]
    }
   ],
   "source": [
    "a=10\n",
    "b=30\n",
    "c=a+b\n",
    "print(c)"
   ]
  },
  {
   "cell_type": "code",
   "execution_count": 2,
   "id": "0b86a73b",
   "metadata": {},
   "outputs": [
    {
     "name": "stdout",
     "output_type": "stream",
     "text": [
      "enter a number1\n",
      "enter the name of a personbikina\n",
      "enter the surname of the persondhakal\n",
      "the name of person is\n",
      "bikina\n",
      "the surname of the person isdhakal\n"
     ]
    }
   ],
   "source": [
    "n=int(input(\"enter a number\"))\n",
    "for i in range(n):\n",
    "    \n",
    "    a=input(\"enter the name of a person\")\n",
    "    b=input(\"enter the surname of the person\")\n",
    "    print(\"the name of person is\\n\"+a+\"\\nthe surname of the person is\"+b)"
   ]
  },
  {
   "cell_type": "code",
   "execution_count": 10,
   "id": "b233b191",
   "metadata": {},
   "outputs": [
    {
     "name": "stdout",
     "output_type": "stream",
     "text": [
      "enter the number of times to run the system2\n",
      "enter the first value3\n",
      "enter the second value2\n",
      "enter the operator+\n",
      "5\n",
      "5\n"
     ]
    }
   ],
   "source": [
    "#calculator\n",
    "n=int(input(\"enter the number of times to run the system\"))\n",
    "x=int(input(\"enter the first value\"))\n",
    "y=int(input(\"enter the second value\"))\n",
    "o=input(\"enter the operator\")\n",
    "for i in range(n):\n",
    "    if o==\"+\":\n",
    "        print(x+y)\n",
    "    elif o==\"-\":\n",
    "        print(x-y)\n",
    "    elif o==\"%\":\n",
    "        print(x%y)\n",
    "    elif o==\"/\" and y!=0:\n",
    "        print(x/y)\n",
    "    else:\n",
    "        print(\"invalid value\")\n",
    "        \n"
   ]
  },
  {
   "cell_type": "code",
   "execution_count": null,
   "id": "4898fcb2",
   "metadata": {},
   "outputs": [],
   "source": []
  },
  {
   "cell_type": "code",
   "execution_count": null,
   "id": "7378d921",
   "metadata": {},
   "outputs": [],
   "source": []
  }
 ],
 "metadata": {
  "kernelspec": {
   "display_name": "Python 3 (ipykernel)",
   "language": "python",
   "name": "python3"
  },
  "language_info": {
   "codemirror_mode": {
    "name": "ipython",
    "version": 3
   },
   "file_extension": ".py",
   "mimetype": "text/x-python",
   "name": "python",
   "nbconvert_exporter": "python",
   "pygments_lexer": "ipython3",
   "version": "3.9.7"
  }
 },
 "nbformat": 4,
 "nbformat_minor": 5
}
